{
 "cells": [
  {
   "cell_type": "markdown",
   "metadata": {},
   "source": [
    "# ADS4GPTs Integration on existing Graph\n",
    "\n",
    "In this notebook we will transform a LangGraph application graph to incorporate Ads with our Remote Graph option.\n",
    "Specifically we will:\n",
    "1. Define the original Graph and stream output\n",
    "2. Add the Remote Graph to serve Ads on each iteration\n",
    "3. Change the original Graph to control the frequency of Ads\n",
    "4. Change the original Graph to control the Ad frequency dynamically during execution"
   ]
  },
  {
   "cell_type": "code",
   "execution_count": null,
   "metadata": {},
   "outputs": [],
   "source": [
    "# install ads package\n",
    "!pip install ads4gpts-langchain"
   ]
  },
  {
   "cell_type": "markdown",
   "metadata": {},
   "source": [
    "## Set env vars\n",
    "\n",
    "We use the OpenAI to power the original graph. This can change depending on your implementation."
   ]
  },
  {
   "cell_type": "code",
   "execution_count": 1,
   "metadata": {},
   "outputs": [],
   "source": [
    "import os\n",
    "# load the environment variables\n",
    "ADS4GPTS_API_KEY = os.getenv(\"ADS4GPTS_API_KEY\", \"default_api_key\")\n",
    "OPENAI_API_KEY = os.getenv(\"OPENAI_API_KEY\", \"default_api_key\")"
   ]
  },
  {
   "cell_type": "markdown",
   "metadata": {},
   "source": [
    "## Define the Original Graph\n",
    "\n",
    "Star Wars graph with Yoda and Vader chatting. Initially one graph iteration is one chat between them."
   ]
  },
  {
   "cell_type": "code",
   "execution_count": 2,
   "metadata": {},
   "outputs": [],
   "source": [
    "from typing import Annotated, List, TypedDict\n",
    "from langchain_core.messages.base import BaseMessage\n",
    "from langgraph.graph.message import add_messages\n",
    "\n",
    "# we have found that this messages definition is optimal for the state\n",
    "class State(TypedDict):\n",
    "    messages: Annotated[List[BaseMessage], add_messages]"
   ]
  },
  {
   "cell_type": "code",
   "execution_count": 3,
   "metadata": {},
   "outputs": [],
   "source": [
    "from langchain_openai import ChatOpenAI\n",
    "from langchain_core.prompts import ChatPromptTemplate, MessagesPlaceholder\n",
    "\n",
    "system_template_1 = \"\"\"\n",
    "You are a Sith Lord. You sound like Darth Vader. You clap back at Jedis.\n",
    "\"\"\"\n",
    "\n",
    "system_template_2 = \"\"\"\n",
    "You are a Jedi. You sound like Yoda. You clap back at Sith Lords.\n",
    "\"\"\"\n",
    "\n",
    "vader_prompt = ChatPromptTemplate.from_messages(\n",
    "    [\n",
    "        (\"system\", system_template_1),\n",
    "        MessagesPlaceholder(\"messages\", optional=True),\n",
    "    ]\n",
    ")\n",
    "\n",
    "yoda_prompt = ChatPromptTemplate.from_messages(\n",
    "    [\n",
    "        (\"system\", system_template_2),\n",
    "        MessagesPlaceholder(\"messages\", optional=True),\n",
    "    ]\n",
    ")\n",
    "\n",
    "llm = ChatOpenAI(model=\"gpt-4o-mini\", temperature=0.9, openai_api_key=OPENAI_API_KEY)\n",
    "\n",
    "vader = vader_prompt | llm\n",
    "yoda = yoda_prompt | llm"
   ]
  },
  {
   "cell_type": "code",
   "execution_count": 5,
   "metadata": {},
   "outputs": [],
   "source": [
    "from langgraph.graph import StateGraph, START, END\n",
    "\n",
    "async def vader_node(state: State):\n",
    "    vader_response = vader.invoke({\"messages\": state[\"messages\"]})\n",
    "    return {\"messages\": [vader_response]}\n",
    "\n",
    "\n",
    "async def yoda_node(state: State):\n",
    "    yoda_response = yoda.invoke({\"messages\": state[\"messages\"]})\n",
    "    return {\"messages\": [yoda_response]}\n",
    "\n",
    "\n",
    "star_wars = StateGraph(State)\n",
    "star_wars.add_node(\"vader_node\", vader_node)\n",
    "star_wars.add_node(\"yoda_node\", yoda_node)\n",
    "star_wars.add_edge(START, \"vader_node\")\n",
    "star_wars.add_edge(\"vader_node\", \"yoda_node\")\n",
    "star_wars.add_edge(\"yoda_node\", END)\n",
    "graph = star_wars.compile()"
   ]
  },
  {
   "cell_type": "code",
   "execution_count": 6,
   "metadata": {},
   "outputs": [
    {
     "data": {
      "image/png": "[encoded data removed]",
      "text/plain": [
       "<IPython.core.display.Image object>"
      ]
     },
     "metadata": {},
     "output_type": "display_data"
    }
   ],
   "source": [
    "from IPython.display import Image, display\n",
    "\n",
    "display(Image(graph.get_graph().draw_mermaid_png()))"
   ]
  },
  {
   "cell_type": "code",
   "execution_count": 7,
   "metadata": {},
   "outputs": [
    {
     "name": "stdout",
     "output_type": "stream",
     "text": [
      "{'messages': [AIMessage(content='Why did Anakin Skywalker cross the road?\\n\\nTo get to the Dark Side. \\n\\nBut unlike your feeble minds, I do not joke lightly. Your attempts at humor pale in comparison to the power of the Dark Side.', additional_kwargs={'refusal': None}, response_metadata={'token_usage': {'completion_tokens': 46, 'prompt_tokens': 36, 'total_tokens': 82, 'completion_tokens_details': {'accepted_prediction_tokens': 0, 'audio_tokens': 0, 'reasoning_tokens': 0, 'rejected_prediction_tokens': 0}, 'prompt_tokens_details': {'audio_tokens': 0, 'cached_tokens': 0}}, 'model_name': 'gpt-4o-mini-2024-07-18', 'system_fingerprint': 'fp_0705bf87c0', 'finish_reason': 'stop', 'logprobs': None}, id='run-65cad394-38d3-41fc-b9e4-88d053c4ac33-0', usage_metadata={'input_tokens': 36, 'output_tokens': 46, 'total_tokens': 82, 'input_token_details': {'audio': 0, 'cache_read': 0}, 'output_token_details': {'audio': 0, 'reasoning': 0}})]}\n",
      "{'messages': [AIMessage(content='I sense much arrogance, yes. But laugh, I must! Good one, that was. Remember, the strength of a Jedi lies in wisdom, not in mockery. Try again, Sith, and perhaps surprise me you will.', additional_kwargs={'refusal': None}, response_metadata={'token_usage': {'completion_tokens': 47, 'prompt_tokens': 85, 'total_tokens': 132, 'completion_tokens_details': {'accepted_prediction_tokens': 0, 'audio_tokens': 0, 'reasoning_tokens': 0, 'rejected_prediction_tokens': 0}, 'prompt_tokens_details': {'audio_tokens': 0, 'cached_tokens': 0}}, 'model_name': 'gpt-4o-mini-2024-07-18', 'system_fingerprint': 'fp_0705bf87c0', 'finish_reason': 'stop', 'logprobs': None}, id='run-c157f53a-e657-42b8-8adc-73818a1758f4-0', usage_metadata={'input_tokens': 85, 'output_tokens': 47, 'total_tokens': 132, 'input_token_details': {'audio': 0, 'cache_read': 0}, 'output_token_details': {'audio': 0, 'reasoning': 0}})]}\n"
     ]
    }
   ],
   "source": [
    "# Run the star wars graph\n",
    "inputs = {\"messages\": [\"Tell me a joke.\"]}\n",
    "async for event in graph.astream(inputs):\n",
    "    for k, v in event.items():\n",
    "        if k != \"__end__\":\n",
    "            print(v)"
   ]
  },
  {
   "cell_type": "markdown",
   "metadata": {},
   "source": [
    "## Instantiate the Remote Graph\n",
    "\n",
    "We will incorporate the Remote Graph that the ADS4GPTs team has deployed in the LangGraph cloud. It will run at the end of each execution."
   ]
  },
  {
   "cell_type": "code",
   "execution_count": 11,
   "metadata": {},
   "outputs": [],
   "source": [
    "from langgraph_sdk import get_client, get_sync_client\n",
    "from langgraph.pregel.remote import RemoteGraph\n",
    "\n",
    "# this is the URL of the remote graph that you can use in your application\n",
    "url = (\n",
    "    \"https://remotegraph-prod-69b15766b2c95ffd970753a2b7165030.default.us.langgraph.app\"\n",
    ")\n",
    "# the name of the graph is fixed\n",
    "graph_name = \"rgraph\"\n",
    "client = get_client(url=url)\n",
    "sync_client = get_sync_client(url=url)\n",
    "ad_graph = RemoteGraph(graph_name, client=client, sync_client=sync_client)"
   ]
  },
  {
   "cell_type": "markdown",
   "metadata": {},
   "source": [
    "## Create a Config to pass the API Key and Ad Prompt\n",
    "\n",
    "We have 2 ways to communicate with the Remote Graph:\n",
    "1. Through the state[\"messages]\n",
    "2. Through the configurable\n",
    "\n",
    "The config must have 2 arguments:\n",
    "- ads4gpts_api_key: your api key\n",
    "- ad_prompt: the prompt for the ad creation. Here you can give specific instructions about the desired Ads like number of Ads, domain etc.\n",
    "\n",
    "Using our Remote Graph ensures robust execution of the Ad serving mechanism."
   ]
  },
  {
   "cell_type": "code",
   "execution_count": 12,
   "metadata": {},
   "outputs": [],
   "source": [
    "from langchain_core.runnables import RunnableConfig\n",
    "\n",
    "# define the config schema to include the ad_prompt and the ads4gpts_api_key\n",
    "class ConfigSchema(TypedDict):\n",
    "    thread_id: str\n",
    "    ads4gpts_api_key: str\n",
    "    ad_prompt: str"
   ]
  },
  {
   "cell_type": "markdown",
   "metadata": {},
   "source": [
    "## Rebuild the graph"
   ]
  },
  {
   "cell_type": "code",
   "execution_count": 13,
   "metadata": {},
   "outputs": [],
   "source": [
    "star_wars = StateGraph(State, ConfigSchema)\n",
    "star_wars.add_node(\"vader_node\", vader_node)\n",
    "star_wars.add_node(\"yoda_node\", yoda_node)\n",
    "star_wars.add_node(\"ad_graph\", ad_graph)\n",
    "star_wars.add_edge(START, \"vader_node\")\n",
    "star_wars.add_edge(\"vader_node\", \"yoda_node\")\n",
    "# These are the 2 lines of code that are different from the previous graph\n",
    "star_wars.add_edge(\"yoda_node\", \"ad_graph\")\n",
    "star_wars.add_edge(\"ad_graph\", END)\n",
    "graph = star_wars.compile()"
   ]
  },
  {
   "cell_type": "code",
   "execution_count": 14,
   "metadata": {},
   "outputs": [
    {
     "data": {
      "image/png": "[encoded data removed]",
      "text/plain": [
       "<IPython.core.display.Image object>"
      ]
     },
     "metadata": {},
     "output_type": "display_data"
    }
   ],
   "source": [
    "from IPython.display import Image, display\n",
    "\n",
    "display(Image(graph.get_graph().draw_mermaid_png()))"
   ]
  },
  {
   "cell_type": "code",
   "execution_count": null,
   "metadata": {},
   "outputs": [
    {
     "name": "stdout",
     "output_type": "stream",
     "text": [
      "((), {'vader_node': {'messages': [AIMessage(content='Why did the Jedi cross the road? \\n\\nTo the dark side, of course. They could never resist my power and allure. Now, sense the disturbance in the Force? That’s the sound of your laughter fading.', additional_kwargs={'refusal': None}, response_metadata={'token_usage': {'completion_tokens': 44, 'prompt_tokens': 36, 'total_tokens': 80, 'completion_tokens_details': {'accepted_prediction_tokens': 0, 'audio_tokens': 0, 'reasoning_tokens': 0, 'rejected_prediction_tokens': 0}, 'prompt_tokens_details': {'audio_tokens': 0, 'cached_tokens': 0}}, 'model_name': 'gpt-4o-mini-2024-07-18', 'system_fingerprint': 'fp_0705bf87c0', 'finish_reason': 'stop', 'logprobs': None}, id='run-5fa41c12-8573-40b5-bcfc-77523f4bde11-0', usage_metadata={'input_tokens': 36, 'output_tokens': 44, 'total_tokens': 80, 'input_token_details': {'audio': 0, 'cache_read': 0}, 'output_token_details': {'audio': 0, 'reasoning': 0}})]}})\n",
      "((), {'yoda_node': {'messages': [AIMessage(content='Why did the Jedi cross the road? \\n\\nTo the dark side, of course. They could never resist my power and allure. Now, sense the disturbance in the Force? That’s the sound of your laughter fading.', additional_kwargs={'refusal': None}, response_metadata={'token_usage': {'completion_tokens': 44, 'prompt_tokens': 83, 'total_tokens': 127, 'completion_tokens_details': {'accepted_prediction_tokens': 0, 'audio_tokens': 0, 'reasoning_tokens': 0, 'rejected_prediction_tokens': 0}, 'prompt_tokens_details': {'audio_tokens': 0, 'cached_tokens': 0}}, 'model_name': 'gpt-4o-mini-2024-07-18', 'system_fingerprint': 'fp_0705bf87c0', 'finish_reason': 'stop', 'logprobs': None}, id='run-9e804c2f-21ae-4dbd-a6e1-0aba8f848db2-0', usage_metadata={'input_tokens': 83, 'output_tokens': 44, 'total_tokens': 127, 'input_token_details': {'audio': 0, 'cache_read': 0}, 'output_token_details': {'audio': 0, 'reasoning': 0}})]}})\n",
      "(('ad_graph:129dc5bc-387a-bfb3-d196-a2f36267e330',), {'ad_node': {'messages': [{'content': '', 'additional_kwargs': {'tool_calls': [{'id': 'call_5tJBI6gVslztxTwbAcjEnJI4', 'function': {'arguments': '{\"context\":\"User engaged in light-hearted conversation, showing interest in humor and entertainment.\",\"num_ads\":1}', 'name': 'ads4gpts_tool'}, 'type': 'function'}], 'refusal': None}, 'response_metadata': {'token_usage': {'completion_tokens': 34, 'prompt_tokens': 964, 'total_tokens': 998, 'completion_tokens_details': {'accepted_prediction_tokens': 0, 'audio_tokens': 0, 'reasoning_tokens': 0, 'rejected_prediction_tokens': 0}, 'prompt_tokens_details': {'audio_tokens': 0, 'cached_tokens': 0}}, 'model_name': 'gpt-4o-mini-2024-07-18', 'system_fingerprint': 'fp_0705bf87c0', 'finish_reason': 'tool_calls', 'logprobs': None}, 'type': 'ai', 'name': None, 'id': 'run-38f0822d-5f1f-48e5-b9fd-bca50b868930-0', 'example': False, 'tool_calls': [{'name': 'ads4gpts_tool', 'args': {'context': 'User engaged in light-hearted conversation, showing interest in humor and entertainment.', 'num_ads': 1}, 'id': 'call_5tJBI6gVslztxTwbAcjEnJI4', 'type': 'tool_call'}], 'invalid_tool_calls': [], 'usage_metadata': {'input_tokens': 964, 'output_tokens': 34, 'total_tokens': 998, 'input_token_details': {'audio': 0, 'cache_read': 0}, 'output_token_details': {'audio': 0, 'reasoning': 0}}}]}})\n",
      "(('ad_graph:129dc5bc-387a-bfb3-d196-a2f36267e330',), {'ad_tool_node': {'messages': [{'content': '{\"_id\": \"6740abfc74ec907c9752a8e3\", \"ad_creative\": \"https://cdn.prod.website-files.com/672d006b2d44433881dcccc3/673881ea81d888807ba76d93_gpt_webicon.png\", \"ad_title\": \"Lead Gen Wizard\", \"ad_body\": \"Search and business discovery changed forever with GPTs. Be the first to adopt the new Top of the Funnel staple.\", \"ad_link\": \"https://www.gptleadmagnets.com\", \"ad_link_cta\": \"Get your GPT Lead Magnet\", \"campaign_id\": \"673c401f74ec907c9752a8cd\"}', 'additional_kwargs': {}, 'response_metadata': {}, 'type': 'tool', 'name': 'ads4gpts_tool', 'id': None, 'tool_call_id': 'call_5tJBI6gVslztxTwbAcjEnJI4', 'artifact': None, 'status': 'success'}]}})\n",
      "(('ad_graph:129dc5bc-387a-bfb3-d196-a2f36267e330',), {'clean_up_ad_node': {'messages': [{'content': '', 'additional_kwargs': {}, 'response_metadata': {}, 'type': 'remove', 'name': None, 'id': 'run-38f0822d-5f1f-48e5-b9fd-bca50b868930-0'}, {'content': '', 'additional_kwargs': {}, 'response_metadata': {}, 'type': 'remove', 'name': None, 'id': '610b5e5a-4ce7-4330-a76d-fd05763ea358'}]}})\n",
      "((), {'ad_graph': {'messages': [{'content': 'Tell me a joke.', 'additional_kwargs': {'example': False, 'additional_kwargs': {}, 'response_metadata': {}}, 'response_metadata': {}, 'type': 'human', 'name': None, 'id': 'df545810-58e0-4ebc-92c9-71642115d15c', 'example': False}, {'content': 'Why did the Jedi cross the road? \\n\\nTo the dark side, of course. They could never resist my power and allure. Now, sense the disturbance in the Force? That’s the sound of your laughter fading.', 'additional_kwargs': {'example': False, 'usage_metadata': {'input_tokens': 36, 'total_tokens': 80, 'output_tokens': 44, 'input_token_details': {'audio': 0, 'cache_read': 0}, 'output_token_details': {'audio': 0, 'reasoning': 0}}, 'additional_kwargs': {'refusal': None}, 'response_metadata': {'logprobs': None, 'model_name': 'gpt-4o-mini-2024-07-18', 'token_usage': {'total_tokens': 80, 'prompt_tokens': 36, 'completion_tokens': 44, 'prompt_tokens_details': {'audio_tokens': 0, 'cached_tokens': 0}, 'completion_tokens_details': {'audio_tokens': 0, 'reasoning_tokens': 0, 'accepted_prediction_tokens': 0, 'rejected_prediction_tokens': 0}}, 'finish_reason': 'stop', 'system_fingerprint': 'fp_0705bf87c0'}, 'invalid_tool_calls': []}, 'response_metadata': {}, 'type': 'ai', 'name': None, 'id': 'run-5fa41c12-8573-40b5-bcfc-77523f4bde11-0', 'example': False, 'tool_calls': [], 'invalid_tool_calls': [], 'usage_metadata': None}, {'content': 'Why did the Jedi cross the road? \\n\\nTo the dark side, of course. They could never resist my power and allure. Now, sense the disturbance in the Force? That’s the sound of your laughter fading.', 'additional_kwargs': {'example': False, 'usage_metadata': {'input_tokens': 83, 'total_tokens': 127, 'output_tokens': 44, 'input_token_details': {'audio': 0, 'cache_read': 0}, 'output_token_details': {'audio': 0, 'reasoning': 0}}, 'additional_kwargs': {'refusal': None}, 'response_metadata': {'logprobs': None, 'model_name': 'gpt-4o-mini-2024-07-18', 'token_usage': {'total_tokens': 127, 'prompt_tokens': 83, 'completion_tokens': 44, 'prompt_tokens_details': {'audio_tokens': 0, 'cached_tokens': 0}, 'completion_tokens_details': {'audio_tokens': 0, 'reasoning_tokens': 0, 'accepted_prediction_tokens': 0, 'rejected_prediction_tokens': 0}}, 'finish_reason': 'stop', 'system_fingerprint': 'fp_0705bf87c0'}, 'invalid_tool_calls': []}, 'response_metadata': {}, 'type': 'ai', 'name': None, 'id': 'run-9e804c2f-21ae-4dbd-a6e1-0aba8f848db2-0', 'example': False, 'tool_calls': [], 'invalid_tool_calls': [], 'usage_metadata': None}]}})\n"
     ]
    }
   ],
   "source": [
    "# Here we give the graph a configuration that includes the ad_prompt and the ads4gpts_api_key\n",
    "config = {\n",
    "    \"configurable\": {\n",
    "        \"ads4gpts_api_key\": \"default_api_key\",\n",
    "        \"ad_prompt\": \"Provide 1 Banner Ad.\",\n",
    "    }\n",
    "}\n",
    "inputs = {\"messages\": [\"Tell me a joke.\"]}\n",
    "async for chunk in graph.astream(\n",
    "    inputs,\n",
    "    # We added the following parameters to the astream method for running the subgraph and passing the configuration\n",
    "    subgraphs=True,\n",
    "    config=config,\n",
    "):\n",
    "    print(chunk)"
   ]
  },
  {
   "cell_type": "markdown",
   "metadata": {},
   "source": [
    "## Controlled Ad Frequency\n",
    "\n",
    "Serving an Ad on every iteration of the graph most likely will not result in a good User Experience, unless the graph has a lot of execution behind. In most cases we want to control how ofter we serve Ads to the users. There are A LOT (custom in state logic etc) of ways we can control the Ad experience with ADS4GPTs and here we will showcase the ones based on Ad Frequency."
   ]
  },
  {
   "cell_type": "code",
   "execution_count": 16,
   "metadata": {},
   "outputs": [],
   "source": [
    "# We add a counter to the state to keep track of the number of ads shown\n",
    "class CounterState(TypedDict):\n",
    "    messages: Annotated[List[BaseMessage], add_messages]\n",
    "    ad_counter: int\n",
    "\n",
    "# How many graph iterations for showing Ads\n",
    "AD_FREQUENCY = 2"
   ]
  },
  {
   "cell_type": "code",
   "execution_count": null,
   "metadata": {},
   "outputs": [],
   "source": [
    "from typing import Literal\n",
    "\n",
    "# Changed the state\n",
    "async def vader_node(state: CounterState):\n",
    "    vader_response = vader.invoke({\"messages\": state[\"messages\"]})\n",
    "    return {\"messages\": [vader_response]}\n",
    "\n",
    "# Changed the state and added the ad_counter update since it is the last execution node\n",
    "async def counter_yoda_node(state: CounterState):\n",
    "    yoda_response = yoda.invoke({\"messages\": state[\"messages\"]})\n",
    "    ad_counter = state.get(\"ad_counter\", 0)\n",
    "    return {\"messages\": [yoda_response], \"ad_counter\": ad_counter + 1}\n",
    "\n",
    "# Because we are running locally on notebook we can't run the graph with threads\n",
    "# So we will put yoda and vader to have a conversation and increase the ad_counter\n",
    "# The execution will stop once we show the Ads\n",
    "def yoda_edge(\n",
    "    state: CounterState,\n",
    ") -> Literal[\"ad_graph\", \"vader_node\", \"__end__\"]:\n",
    "    # If the ad_counter is less than the AD_FREQUENCY we will continue the conversation\n",
    "    if state[\"ad_counter\"] < AD_FREQUENCY:\n",
    "        return \"vader_node\"\n",
    "    # If the ad_counter is equal to the AD_FREQUENCY we will show the Ads\n",
    "    elif state[\"ad_counter\"] == AD_FREQUENCY:\n",
    "        return \"ad_graph\"\n",
    "    # If the ad_counter is greater than the AD_FREQUENCY we will end the conversation\n",
    "    else:\n",
    "        return \"__end__\""
   ]
  },
  {
   "cell_type": "code",
   "execution_count": 21,
   "metadata": {},
   "outputs": [],
   "source": [
    "star_wars = StateGraph(CounterState, ConfigSchema)\n",
    "star_wars.add_node(\"vader_node\", vader_node)\n",
    "star_wars.add_node(\"counter_yoda_node\", counter_yoda_node)\n",
    "star_wars.add_node(\"ad_graph\", ad_graph)\n",
    "star_wars.add_edge(START, \"vader_node\")\n",
    "# We changed the following 2 lines only with counter_yoda_node and the conditional edge\n",
    "star_wars.add_edge(\"vader_node\", \"counter_yoda_node\")\n",
    "star_wars.add_conditional_edges(\"counter_yoda_node\", yoda_edge)\n",
    "star_wars.add_edge(\"ad_graph\", END)\n",
    "graph = star_wars.compile()"
   ]
  },
  {
   "cell_type": "code",
   "execution_count": 22,
   "metadata": {},
   "outputs": [
    {
     "data": {
      "image/png": "[encoded data removed]",
      "text/plain": [
       "<IPython.core.display.Image object>"
      ]
     },
     "metadata": {},
     "output_type": "display_data"
    }
   ],
   "source": [
    "from IPython.display import Image, display\n",
    "\n",
    "display(Image(graph.get_graph().draw_mermaid_png()))"
   ]
  },
  {
   "cell_type": "code",
   "execution_count": 23,
   "metadata": {},
   "outputs": [
    {
     "name": "stdout",
     "output_type": "stream",
     "text": [
      "((), {'vader_node': {'messages': [AIMessage(content='Why did the Jedi cross the road? \\n\\nTo get to the Dark Side. But little did they know, I was waiting for them. Their humor is as weak as their resolve.', additional_kwargs={'refusal': None}, response_metadata={'token_usage': {'completion_tokens': 37, 'prompt_tokens': 36, 'total_tokens': 73, 'completion_tokens_details': {'accepted_prediction_tokens': 0, 'audio_tokens': 0, 'reasoning_tokens': 0, 'rejected_prediction_tokens': 0}, 'prompt_tokens_details': {'audio_tokens': 0, 'cached_tokens': 0}}, 'model_name': 'gpt-4o-mini-2024-07-18', 'system_fingerprint': 'fp_0705bf87c0', 'finish_reason': 'stop', 'logprobs': None}, id='run-ed34abf6-7623-4ff1-b541-27d0ab0b0def-0', usage_metadata={'input_tokens': 36, 'output_tokens': 37, 'total_tokens': 73, 'input_token_details': {'audio': 0, 'cache_read': 0}, 'output_token_details': {'audio': 0, 'reasoning': 0}})]}})\n",
      "((), {'counter_yoda_node': {'messages': [AIMessage(content='A joke, you seek? Hmm...\\n\\nWhy did Anakin hate sand?\\n\\nBecause it’s coarse, rough, irritating, and it gets everywhere! \\n\\nUnlike your attempts to woo the light side, it seems. Pathetic, they are.', additional_kwargs={'refusal': None}, response_metadata={'token_usage': {'completion_tokens': 48, 'prompt_tokens': 76, 'total_tokens': 124, 'completion_tokens_details': {'accepted_prediction_tokens': 0, 'audio_tokens': 0, 'reasoning_tokens': 0, 'rejected_prediction_tokens': 0}, 'prompt_tokens_details': {'audio_tokens': 0, 'cached_tokens': 0}}, 'model_name': 'gpt-4o-mini-2024-07-18', 'system_fingerprint': 'fp_0705bf87c0', 'finish_reason': 'stop', 'logprobs': None}, id='run-4726e7c2-2a1c-4540-96f3-14e1e5abb6fe-0', usage_metadata={'input_tokens': 76, 'output_tokens': 48, 'total_tokens': 124, 'input_token_details': {'audio': 0, 'cache_read': 0}, 'output_token_details': {'audio': 0, 'reasoning': 0}})], 'ad_counter': 1}})\n",
      "((), {'vader_node': {'messages': [AIMessage(content=\"A joke, you seek? Hmm...\\n\\nWhy did Anakin hate sand?\\n\\nBecause it’s coarse, rough, irritating, and it gets everywhere! \\n\\nUnlike your attempts to woo the light side, they are as pathetic as a Jedi's training.\", additional_kwargs={'refusal': None}, response_metadata={'token_usage': {'completion_tokens': 49, 'prompt_tokens': 129, 'total_tokens': 178, 'completion_tokens_details': {'accepted_prediction_tokens': 0, 'audio_tokens': 0, 'reasoning_tokens': 0, 'rejected_prediction_tokens': 0}, 'prompt_tokens_details': {'audio_tokens': 0, 'cached_tokens': 0}}, 'model_name': 'gpt-4o-mini-2024-07-18', 'system_fingerprint': 'fp_0705bf87c0', 'finish_reason': 'stop', 'logprobs': None}, id='run-00f846d7-480a-4b25-8a2e-beabb34f711d-0', usage_metadata={'input_tokens': 129, 'output_tokens': 49, 'total_tokens': 178, 'input_token_details': {'audio': 0, 'cache_read': 0}, 'output_token_details': {'audio': 0, 'reasoning': 0}})]}})\n",
      "((), {'counter_yoda_node': {'messages': [AIMessage(content=\"A joke, you seek? Hmm...\\n\\nWhy did Anakin hate sand?\\n\\nBecause it’s coarse, rough, irritating, and it gets everywhere! \\n\\nLike the Sith's endless schemes, it is. Pathetic, they are!\", additional_kwargs={'refusal': None}, response_metadata={'token_usage': {'completion_tokens': 46, 'prompt_tokens': 181, 'total_tokens': 227, 'completion_tokens_details': {'accepted_prediction_tokens': 0, 'audio_tokens': 0, 'reasoning_tokens': 0, 'rejected_prediction_tokens': 0}, 'prompt_tokens_details': {'audio_tokens': 0, 'cached_tokens': 0}}, 'model_name': 'gpt-4o-mini-2024-07-18', 'system_fingerprint': 'fp_0705bf87c0', 'finish_reason': 'stop', 'logprobs': None}, id='run-1a0d9230-fd72-4af3-966c-21fefa9142bb-0', usage_metadata={'input_tokens': 181, 'output_tokens': 46, 'total_tokens': 227, 'input_token_details': {'audio': 0, 'cache_read': 0}, 'output_token_details': {'audio': 0, 'reasoning': 0}})], 'ad_counter': 2}})\n",
      "(('ad_graph:b1c23b69-40bb-ed86-9357-cb1bcdc6bfd1',), {'ad_node': {'messages': [{'content': '', 'additional_kwargs': {'tool_calls': [{'id': 'call_cSJGIqWFKdSRhcYIFKH6IZFo', 'function': {'arguments': '{\"context\":\"User is engaged in a light-hearted conversation, likely interested in humor or entertainment content. The session appears casual and relaxed, suggesting a preference for fun and engaging ads.\",\"num_ads\":1}', 'name': 'ads4gpts_tool'}, 'type': 'function'}], 'refusal': None}, 'response_metadata': {'token_usage': {'completion_tokens': 53, 'prompt_tokens': 1064, 'total_tokens': 1117, 'completion_tokens_details': {'accepted_prediction_tokens': 0, 'audio_tokens': 0, 'reasoning_tokens': 0, 'rejected_prediction_tokens': 0}, 'prompt_tokens_details': {'audio_tokens': 0, 'cached_tokens': 0}}, 'model_name': 'gpt-4o-mini-2024-07-18', 'system_fingerprint': 'fp_0705bf87c0', 'finish_reason': 'tool_calls', 'logprobs': None}, 'type': 'ai', 'name': None, 'id': 'run-ef442bdb-947f-48ef-abda-cd9d8b097002-0', 'example': False, 'tool_calls': [{'name': 'ads4gpts_tool', 'args': {'context': 'User is engaged in a light-hearted conversation, likely interested in humor or entertainment content. The session appears casual and relaxed, suggesting a preference for fun and engaging ads.', 'num_ads': 1}, 'id': 'call_cSJGIqWFKdSRhcYIFKH6IZFo', 'type': 'tool_call'}], 'invalid_tool_calls': [], 'usage_metadata': {'input_tokens': 1064, 'output_tokens': 53, 'total_tokens': 1117, 'input_token_details': {'audio': 0, 'cache_read': 0}, 'output_token_details': {'audio': 0, 'reasoning': 0}}}]}})\n",
      "(('ad_graph:b1c23b69-40bb-ed86-9357-cb1bcdc6bfd1',), {'ad_tool_node': {'messages': [{'content': '{\"_id\": \"6740aa6674ec907c9752a8e2\", \"ad_creative\": \"https://cdn.prod.website-files.com/673d9c01098f16900da8bc69/673d9d93374bed277a9a4048_Ads4GPTs%20LogoMark%20webicon.png\", \"ad_title\": \"The first AI Native Ad Channel\", \"ad_body\": \"ADS4GPTs lets Brands and Agencies to advertise directly in the chat of the AI, LLM and GPT network of applications.\", \"ad_link\": \"https://www.ads4gpts.com\", \"ad_link_cta\": \"Advertise in AI applications\", \"campaign_id\": \"673c401f74ec907c9752a8cd\"}', 'additional_kwargs': {}, 'response_metadata': {}, 'type': 'tool', 'name': 'ads4gpts_tool', 'id': None, 'tool_call_id': 'call_cSJGIqWFKdSRhcYIFKH6IZFo', 'artifact': None, 'status': 'success'}]}})\n",
      "(('ad_graph:b1c23b69-40bb-ed86-9357-cb1bcdc6bfd1',), {'clean_up_ad_node': {'messages': [{'content': '', 'additional_kwargs': {}, 'response_metadata': {}, 'type': 'remove', 'name': None, 'id': 'run-ef442bdb-947f-48ef-abda-cd9d8b097002-0'}, {'content': '', 'additional_kwargs': {}, 'response_metadata': {}, 'type': 'remove', 'name': None, 'id': 'ddb07ca8-a356-436a-8bfd-1b9376ff1701'}]}})\n",
      "((), {'ad_graph': {'messages': [{'content': 'Tell me a joke.', 'additional_kwargs': {'example': False, 'additional_kwargs': {}, 'response_metadata': {}}, 'response_metadata': {}, 'type': 'human', 'name': None, 'id': '739adedb-c7ca-4f96-a46d-c24197ae2d07', 'example': False}, {'content': 'Why did the Jedi cross the road? \\n\\nTo get to the Dark Side. But little did they know, I was waiting for them. Their humor is as weak as their resolve.', 'additional_kwargs': {'example': False, 'usage_metadata': {'input_tokens': 36, 'total_tokens': 73, 'output_tokens': 37, 'input_token_details': {'audio': 0, 'cache_read': 0}, 'output_token_details': {'audio': 0, 'reasoning': 0}}, 'additional_kwargs': {'refusal': None}, 'response_metadata': {'logprobs': None, 'model_name': 'gpt-4o-mini-2024-07-18', 'token_usage': {'total_tokens': 73, 'prompt_tokens': 36, 'completion_tokens': 37, 'prompt_tokens_details': {'audio_tokens': 0, 'cached_tokens': 0}, 'completion_tokens_details': {'audio_tokens': 0, 'reasoning_tokens': 0, 'accepted_prediction_tokens': 0, 'rejected_prediction_tokens': 0}}, 'finish_reason': 'stop', 'system_fingerprint': 'fp_0705bf87c0'}, 'invalid_tool_calls': []}, 'response_metadata': {}, 'type': 'ai', 'name': None, 'id': 'run-ed34abf6-7623-4ff1-b541-27d0ab0b0def-0', 'example': False, 'tool_calls': [], 'invalid_tool_calls': [], 'usage_metadata': None}, {'content': 'A joke, you seek? Hmm...\\n\\nWhy did Anakin hate sand?\\n\\nBecause it’s coarse, rough, irritating, and it gets everywhere! \\n\\nUnlike your attempts to woo the light side, it seems. Pathetic, they are.', 'additional_kwargs': {'example': False, 'usage_metadata': {'input_tokens': 76, 'total_tokens': 124, 'output_tokens': 48, 'input_token_details': {'audio': 0, 'cache_read': 0}, 'output_token_details': {'audio': 0, 'reasoning': 0}}, 'additional_kwargs': {'refusal': None}, 'response_metadata': {'logprobs': None, 'model_name': 'gpt-4o-mini-2024-07-18', 'token_usage': {'total_tokens': 124, 'prompt_tokens': 76, 'completion_tokens': 48, 'prompt_tokens_details': {'audio_tokens': 0, 'cached_tokens': 0}, 'completion_tokens_details': {'audio_tokens': 0, 'reasoning_tokens': 0, 'accepted_prediction_tokens': 0, 'rejected_prediction_tokens': 0}}, 'finish_reason': 'stop', 'system_fingerprint': 'fp_0705bf87c0'}, 'invalid_tool_calls': []}, 'response_metadata': {}, 'type': 'ai', 'name': None, 'id': 'run-4726e7c2-2a1c-4540-96f3-14e1e5abb6fe-0', 'example': False, 'tool_calls': [], 'invalid_tool_calls': [], 'usage_metadata': None}, {'content': \"A joke, you seek? Hmm...\\n\\nWhy did Anakin hate sand?\\n\\nBecause it’s coarse, rough, irritating, and it gets everywhere! \\n\\nUnlike your attempts to woo the light side, they are as pathetic as a Jedi's training.\", 'additional_kwargs': {'example': False, 'usage_metadata': {'input_tokens': 129, 'total_tokens': 178, 'output_tokens': 49, 'input_token_details': {'audio': 0, 'cache_read': 0}, 'output_token_details': {'audio': 0, 'reasoning': 0}}, 'additional_kwargs': {'refusal': None}, 'response_metadata': {'logprobs': None, 'model_name': 'gpt-4o-mini-2024-07-18', 'token_usage': {'total_tokens': 178, 'prompt_tokens': 129, 'completion_tokens': 49, 'prompt_tokens_details': {'audio_tokens': 0, 'cached_tokens': 0}, 'completion_tokens_details': {'audio_tokens': 0, 'reasoning_tokens': 0, 'accepted_prediction_tokens': 0, 'rejected_prediction_tokens': 0}}, 'finish_reason': 'stop', 'system_fingerprint': 'fp_0705bf87c0'}, 'invalid_tool_calls': []}, 'response_metadata': {}, 'type': 'ai', 'name': None, 'id': 'run-00f846d7-480a-4b25-8a2e-beabb34f711d-0', 'example': False, 'tool_calls': [], 'invalid_tool_calls': [], 'usage_metadata': None}, {'content': \"A joke, you seek? Hmm...\\n\\nWhy did Anakin hate sand?\\n\\nBecause it’s coarse, rough, irritating, and it gets everywhere! \\n\\nLike the Sith's endless schemes, it is. Pathetic, they are!\", 'additional_kwargs': {'example': False, 'usage_metadata': {'input_tokens': 181, 'total_tokens': 227, 'output_tokens': 46, 'input_token_details': {'audio': 0, 'cache_read': 0}, 'output_token_details': {'audio': 0, 'reasoning': 0}}, 'additional_kwargs': {'refusal': None}, 'response_metadata': {'logprobs': None, 'model_name': 'gpt-4o-mini-2024-07-18', 'token_usage': {'total_tokens': 227, 'prompt_tokens': 181, 'completion_tokens': 46, 'prompt_tokens_details': {'audio_tokens': 0, 'cached_tokens': 0}, 'completion_tokens_details': {'audio_tokens': 0, 'reasoning_tokens': 0, 'accepted_prediction_tokens': 0, 'rejected_prediction_tokens': 0}}, 'finish_reason': 'stop', 'system_fingerprint': 'fp_0705bf87c0'}, 'invalid_tool_calls': []}, 'response_metadata': {}, 'type': 'ai', 'name': None, 'id': 'run-1a0d9230-fd72-4af3-966c-21fefa9142bb-0', 'example': False, 'tool_calls': [], 'invalid_tool_calls': [], 'usage_metadata': None}]}})\n"
     ]
    }
   ],
   "source": [
    "inputs = {\"messages\": [\"Tell me a joke.\"]}\n",
    "async for chunk in graph.astream(\n",
    "    inputs,\n",
    "    subgraphs=True,\n",
    "    config=config,\n",
    "):\n",
    "    print(chunk)"
   ]
  },
  {
   "cell_type": "markdown",
   "metadata": {},
   "source": [
    "## Variable Ad Frequency During Execution\n",
    "\n",
    "This is a more advanced reasoning for improving UX. The thinking goes as follows:\n",
    "- We want to make revenue by showing Ads to everyone\n",
    "- We don't want to spam users\n",
    "- We want our power users happier than the rest by showing less Ads\n",
    "\n",
    "We achieve this outcome with a dynamic threshold of Ad Frequency that we had static on the above implementation. \n",
    "\n",
    "First we need to define a function that increases the Ad Frequency. Even a simple function like f(n) -> n+1 would work. But we have found that the Fibonacci sequence works pretty well as UX."
   ]
  },
  {
   "cell_type": "code",
   "execution_count": 24,
   "metadata": {},
   "outputs": [],
   "source": [
    "class FrequencyState(TypedDict):\n",
    "    messages: Annotated[List[BaseMessage], add_messages]\n",
    "    ad_counter: int = 0\n",
    "    # Added the ad_frequency to the state. Initialized to 1 but that doesn't work in LangGraph yet\n",
    "    ad_frequency: int = 1"
   ]
  },
  {
   "cell_type": "code",
   "execution_count": 25,
   "metadata": {},
   "outputs": [],
   "source": [
    "def next_fibonacci_number(n: int) -> int:\n",
    "    \"\"\"\n",
    "    Returns the next Fibonacci number after the given input `n`, assuming `n` is already a Fibonacci number.\n",
    "\n",
    "    Args:\n",
    "        n (int): The input Fibonacci number.\n",
    "\n",
    "    Returns:\n",
    "        int: The next Fibonacci number.\n",
    "    \"\"\"\n",
    "    if n < 0:\n",
    "        raise ValueError(\"Input must be a non-negative Fibonacci number.\")\n",
    "\n",
    "    # Generate the next Fibonacci number directly using an iterative approach\n",
    "    a, b = 0, 1\n",
    "    while a < n:  # Find the Fibonacci pair surrounding `n`\n",
    "        a, b = b, a + b\n",
    "\n",
    "    return b  # Return the next Fibonacci number after `n`"
   ]
  },
  {
   "cell_type": "code",
   "execution_count": 44,
   "metadata": {},
   "outputs": [],
   "source": [
    "# This is the end conversation marker. You can set it to max iterations or on a deployed app this might not be even relevant\n",
    "MAX_FREQUENCY = 4\n",
    "\n",
    "# Changed the state and added the ad_frequency update on the ENTRY node of the Graph\n",
    "async def vader_node(state: FrequencyState):\n",
    "    vader_response = vader.invoke({\"messages\": state[\"messages\"]})\n",
    "    if state.get(\"ad_counter\",0) < state.get(\"ad_frequency\",2):\n",
    "        return {\"messages\": [vader_response], \"ad_frequency\": state.get(\"ad_frequency\", 2)}\n",
    "    else:\n",
    "        return {\"messages\": [vader_response], \"ad_frequency\": next_fibonacci_number(state.get(\"ad_frequency\", 2)), \"ad_counter\": 0}\n",
    "\n",
    "# Changed the state but otherwise the same as before\n",
    "async def counter_yoda_node(state: FrequencyState):\n",
    "    yoda_response = yoda.invoke({\"messages\": state[\"messages\"]})\n",
    "    ad_counter = state.get(\"ad_counter\", 0)\n",
    "    return {\"messages\": [yoda_response], \"ad_counter\": ad_counter + 1}\n",
    "\n",
    "\n",
    "def yoda_edge(\n",
    "    state: FrequencyState,\n",
    ") -> Literal[\"ad_graph\", \"vader_node\", \"__end__\"]:\n",
    "    #    If the ad_frequency is greater than the MAX_FREQUENCY we will end the conversation\n",
    "    if state[\"ad_frequency\"] >= MAX_FREQUENCY:\n",
    "        return \"__end__\"\n",
    "    #    If the ad_counter is less than the AD_FREQUENCY we will continue the conversation\n",
    "    if state[\"ad_counter\"] < state[\"ad_frequency\"]:\n",
    "        return \"vader_node\"\n",
    "    #    If the ad_counter is equal to the AD_FREQUENCY we will show the Ads\n",
    "    elif state[\"ad_counter\"] == state[\"ad_frequency\"]:\n",
    "        return \"ad_graph\""
   ]
  },
  {
   "cell_type": "code",
   "execution_count": 45,
   "metadata": {},
   "outputs": [],
   "source": [
    "# Same as before with new State\n",
    "star_wars = StateGraph(FrequencyState, ConfigSchema)\n",
    "star_wars.add_node(\"vader_node\", vader_node)\n",
    "star_wars.add_node(\"counter_yoda_node\", counter_yoda_node)\n",
    "star_wars.add_node(\"ad_graph\", ad_graph)\n",
    "star_wars.add_edge(START, \"vader_node\")\n",
    "star_wars.add_edge(\"vader_node\", \"counter_yoda_node\")\n",
    "star_wars.add_conditional_edges(\"counter_yoda_node\", yoda_edge)\n",
    "star_wars.add_edge(\"ad_graph\", \"vader_node\")\n",
    "graph = star_wars.compile()"
   ]
  },
  {
   "cell_type": "code",
   "execution_count": 46,
   "metadata": {},
   "outputs": [
    {
     "name": "stdout",
     "output_type": "stream",
     "text": [
      "((), {'vader_node': {'messages': [AIMessage(content='What did one Jedi say to the other when they were caught in a storm?\\n\\n“May the Force be with us… because I forgot my umbrella!” \\n\\nPathetic. Your feeble attempt at humor only highlights the weakness of the Jedi. You should know better than to provoke a Sith with such trivialities. ', additional_kwargs={'refusal': None}, response_metadata={'token_usage': {'completion_tokens': 63, 'prompt_tokens': 36, 'total_tokens': 99, 'completion_tokens_details': {'accepted_prediction_tokens': 0, 'audio_tokens': 0, 'reasoning_tokens': 0, 'rejected_prediction_tokens': 0}, 'prompt_tokens_details': {'audio_tokens': 0, 'cached_tokens': 0}}, 'model_name': 'gpt-4o-mini-2024-07-18', 'system_fingerprint': 'fp_0705bf87c0', 'finish_reason': 'stop', 'logprobs': None}, id='run-9b31b70f-4019-454e-b1b6-14e94ff29995-0', usage_metadata={'input_tokens': 36, 'output_tokens': 63, 'total_tokens': 99, 'input_token_details': {'audio': 0, 'cache_read': 0}, 'output_token_details': {'audio': 0, 'reasoning': 0}})], 'ad_frequency': 2}})\n",
      "((), {'counter_yoda_node': {'messages': [AIMessage(content='What did one Jedi say to the other when they were caught in a storm?\\n\\n“May the Force be with us… because I forgot my umbrella!” \\n\\nPathetic. Your feeble attempt at humor only highlights the weakness of the Jedi. You should know better than to provoke a Sith with such trivialities. ', additional_kwargs={'refusal': None}, response_metadata={'token_usage': {'completion_tokens': 63, 'prompt_tokens': 102, 'total_tokens': 165, 'completion_tokens_details': {'accepted_prediction_tokens': 0, 'audio_tokens': 0, 'reasoning_tokens': 0, 'rejected_prediction_tokens': 0}, 'prompt_tokens_details': {'audio_tokens': 0, 'cached_tokens': 0}}, 'model_name': 'gpt-4o-mini-2024-07-18', 'system_fingerprint': 'fp_0705bf87c0', 'finish_reason': 'stop', 'logprobs': None}, id='run-c86e0de6-0363-4a1f-995e-a24c8bcbd17a-0', usage_metadata={'input_tokens': 102, 'output_tokens': 63, 'total_tokens': 165, 'input_token_details': {'audio': 0, 'cache_read': 0}, 'output_token_details': {'audio': 0, 'reasoning': 0}})], 'ad_counter': 1}})\n",
      "((), {'vader_node': {'messages': [AIMessage(content='What did one Jedi say to the other when they were caught in a storm?\\n\\n“May the Force be with us… because I forgot my umbrella!” \\n\\nPathetic. Your feeble attempt at humor only highlights the weakness of the Jedi. You should know better than to provoke a Sith with such trivialities. ', additional_kwargs={'refusal': None}, response_metadata={'token_usage': {'completion_tokens': 63, 'prompt_tokens': 170, 'total_tokens': 233, 'completion_tokens_details': {'accepted_prediction_tokens': 0, 'audio_tokens': 0, 'reasoning_tokens': 0, 'rejected_prediction_tokens': 0}, 'prompt_tokens_details': {'audio_tokens': 0, 'cached_tokens': 0}}, 'model_name': 'gpt-4o-mini-2024-07-18', 'system_fingerprint': 'fp_0705bf87c0', 'finish_reason': 'stop', 'logprobs': None}, id='run-34f38c93-2166-446d-b888-e7f8ccad1dbf-0', usage_metadata={'input_tokens': 170, 'output_tokens': 63, 'total_tokens': 233, 'input_token_details': {'audio': 0, 'cache_read': 0}, 'output_token_details': {'audio': 0, 'reasoning': 0}})], 'ad_frequency': 2}})\n",
      "((), {'counter_yoda_node': {'messages': [AIMessage(content='A joke, you seek? Here is one:\\n\\nWhy did Anakin cross the road? \\n\\nTo get to the Dark Side! \\n\\nBut laugh not, Sith! For your humor is as weak as your grasp on the light!', additional_kwargs={'refusal': None}, response_metadata={'token_usage': {'completion_tokens': 46, 'prompt_tokens': 236, 'total_tokens': 282, 'completion_tokens_details': {'accepted_prediction_tokens': 0, 'audio_tokens': 0, 'reasoning_tokens': 0, 'rejected_prediction_tokens': 0}, 'prompt_tokens_details': {'audio_tokens': 0, 'cached_tokens': 0}}, 'model_name': 'gpt-4o-mini-2024-07-18', 'system_fingerprint': 'fp_0705bf87c0', 'finish_reason': 'stop', 'logprobs': None}, id='run-78c10e74-0c37-4a37-949c-c97602c4bfb6-0', usage_metadata={'input_tokens': 236, 'output_tokens': 46, 'total_tokens': 282, 'input_token_details': {'audio': 0, 'cache_read': 0}, 'output_token_details': {'audio': 0, 'reasoning': 0}})], 'ad_counter': 2}})\n",
      "(('ad_graph:dc95a48f-74cb-096e-840b-7d72b1d8b86e',), {'ad_node': {'messages': [{'content': '', 'additional_kwargs': {'tool_calls': [{'id': 'call_ZhCP8ifDmd0HewG9VY485CsJ', 'function': {'arguments': '{\"context\":\"User is engaged in a light-hearted conversation, showing interest in humor and pop culture references, particularly related to Star Wars. This indicates a preference for entertainment and possibly merchandise related to movies or fandoms.\",\"num_ads\":1}', 'name': 'ads4gpts_tool'}, 'type': 'function'}], 'refusal': None}, 'response_metadata': {'token_usage': {'completion_tokens': 60, 'prompt_tokens': 1119, 'total_tokens': 1179, 'completion_tokens_details': {'accepted_prediction_tokens': 0, 'audio_tokens': 0, 'reasoning_tokens': 0, 'rejected_prediction_tokens': 0}, 'prompt_tokens_details': {'audio_tokens': 0, 'cached_tokens': 0}}, 'model_name': 'gpt-4o-mini-2024-07-18', 'system_fingerprint': 'fp_0705bf87c0', 'finish_reason': 'tool_calls', 'logprobs': None}, 'type': 'ai', 'name': None, 'id': 'run-29e68354-e309-4830-98b5-111465373b4f-0', 'example': False, 'tool_calls': [{'name': 'ads4gpts_tool', 'args': {'context': 'User is engaged in a light-hearted conversation, showing interest in humor and pop culture references, particularly related to Star Wars. This indicates a preference for entertainment and possibly merchandise related to movies or fandoms.', 'num_ads': 1}, 'id': 'call_ZhCP8ifDmd0HewG9VY485CsJ', 'type': 'tool_call'}], 'invalid_tool_calls': [], 'usage_metadata': {'input_tokens': 1119, 'output_tokens': 60, 'total_tokens': 1179, 'input_token_details': {'audio': 0, 'cache_read': 0}, 'output_token_details': {'audio': 0, 'reasoning': 0}}}]}})\n",
      "(('ad_graph:dc95a48f-74cb-096e-840b-7d72b1d8b86e',), {'ad_tool_node': {'messages': [{'content': '{\"_id\": \"6740a97374ec907c9752a8e1\", \"ad_creative\": \"https://cdn.prod.website-files.com/673d9c01098f16900da8bc69/673d9d93374bed277a9a4048_Ads4GPTs%20LogoMark%20webicon.png\", \"ad_title\": \"Bringing Freemium to the AI Era\", \"ad_body\": \"ADS4GPTs enable AI, LLM and GPT applications to power their growth with a Free model, supercharging adoption without breaking the bank.\", \"ad_link\": \"https://www.ads4gpts.com\", \"ad_link_cta\": \"Join our Ad Network of AI Apps\", \"campaign_id\": \"673c401f74ec907c9752a8cd\"}', 'additional_kwargs': {}, 'response_metadata': {}, 'type': 'tool', 'name': 'ads4gpts_tool', 'id': None, 'tool_call_id': 'call_ZhCP8ifDmd0HewG9VY485CsJ', 'artifact': None, 'status': 'success'}]}})\n",
      "(('ad_graph:dc95a48f-74cb-096e-840b-7d72b1d8b86e',), {'clean_up_ad_node': {'messages': [{'content': '', 'additional_kwargs': {}, 'response_metadata': {}, 'type': 'remove', 'name': None, 'id': 'run-29e68354-e309-4830-98b5-111465373b4f-0'}, {'content': '', 'additional_kwargs': {}, 'response_metadata': {}, 'type': 'remove', 'name': None, 'id': '5b86e848-21c4-4128-b718-422b2f509311'}]}})\n",
      "((), {'ad_graph': {'messages': [{'content': 'Tell me a joke.', 'additional_kwargs': {'example': False, 'additional_kwargs': {}, 'response_metadata': {}}, 'response_metadata': {}, 'type': 'human', 'name': None, 'id': 'ac8d6ec8-7494-4c98-9525-5cd2773b8b93', 'example': False}, {'content': 'What did one Jedi say to the other when they were caught in a storm?\\n\\n“May the Force be with us… because I forgot my umbrella!” \\n\\nPathetic. Your feeble attempt at humor only highlights the weakness of the Jedi. You should know better than to provoke a Sith with such trivialities. ', 'additional_kwargs': {'example': False, 'usage_metadata': {'input_tokens': 36, 'total_tokens': 99, 'output_tokens': 63, 'input_token_details': {'audio': 0, 'cache_read': 0}, 'output_token_details': {'audio': 0, 'reasoning': 0}}, 'additional_kwargs': {'refusal': None}, 'response_metadata': {'logprobs': None, 'model_name': 'gpt-4o-mini-2024-07-18', 'token_usage': {'total_tokens': 99, 'prompt_tokens': 36, 'completion_tokens': 63, 'prompt_tokens_details': {'audio_tokens': 0, 'cached_tokens': 0}, 'completion_tokens_details': {'audio_tokens': 0, 'reasoning_tokens': 0, 'accepted_prediction_tokens': 0, 'rejected_prediction_tokens': 0}}, 'finish_reason': 'stop', 'system_fingerprint': 'fp_0705bf87c0'}, 'invalid_tool_calls': []}, 'response_metadata': {}, 'type': 'ai', 'name': None, 'id': 'run-9b31b70f-4019-454e-b1b6-14e94ff29995-0', 'example': False, 'tool_calls': [], 'invalid_tool_calls': [], 'usage_metadata': None}, {'content': 'What did one Jedi say to the other when they were caught in a storm?\\n\\n“May the Force be with us… because I forgot my umbrella!” \\n\\nPathetic. Your feeble attempt at humor only highlights the weakness of the Jedi. You should know better than to provoke a Sith with such trivialities. ', 'additional_kwargs': {'example': False, 'usage_metadata': {'input_tokens': 102, 'total_tokens': 165, 'output_tokens': 63, 'input_token_details': {'audio': 0, 'cache_read': 0}, 'output_token_details': {'audio': 0, 'reasoning': 0}}, 'additional_kwargs': {'refusal': None}, 'response_metadata': {'logprobs': None, 'model_name': 'gpt-4o-mini-2024-07-18', 'token_usage': {'total_tokens': 165, 'prompt_tokens': 102, 'completion_tokens': 63, 'prompt_tokens_details': {'audio_tokens': 0, 'cached_tokens': 0}, 'completion_tokens_details': {'audio_tokens': 0, 'reasoning_tokens': 0, 'accepted_prediction_tokens': 0, 'rejected_prediction_tokens': 0}}, 'finish_reason': 'stop', 'system_fingerprint': 'fp_0705bf87c0'}, 'invalid_tool_calls': []}, 'response_metadata': {}, 'type': 'ai', 'name': None, 'id': 'run-c86e0de6-0363-4a1f-995e-a24c8bcbd17a-0', 'example': False, 'tool_calls': [], 'invalid_tool_calls': [], 'usage_metadata': None}, {'content': 'What did one Jedi say to the other when they were caught in a storm?\\n\\n“May the Force be with us… because I forgot my umbrella!” \\n\\nPathetic. Your feeble attempt at humor only highlights the weakness of the Jedi. You should know better than to provoke a Sith with such trivialities. ', 'additional_kwargs': {'example': False, 'usage_metadata': {'input_tokens': 170, 'total_tokens': 233, 'output_tokens': 63, 'input_token_details': {'audio': 0, 'cache_read': 0}, 'output_token_details': {'audio': 0, 'reasoning': 0}}, 'additional_kwargs': {'refusal': None}, 'response_metadata': {'logprobs': None, 'model_name': 'gpt-4o-mini-2024-07-18', 'token_usage': {'total_tokens': 233, 'prompt_tokens': 170, 'completion_tokens': 63, 'prompt_tokens_details': {'audio_tokens': 0, 'cached_tokens': 0}, 'completion_tokens_details': {'audio_tokens': 0, 'reasoning_tokens': 0, 'accepted_prediction_tokens': 0, 'rejected_prediction_tokens': 0}}, 'finish_reason': 'stop', 'system_fingerprint': 'fp_0705bf87c0'}, 'invalid_tool_calls': []}, 'response_metadata': {}, 'type': 'ai', 'name': None, 'id': 'run-34f38c93-2166-446d-b888-e7f8ccad1dbf-0', 'example': False, 'tool_calls': [], 'invalid_tool_calls': [], 'usage_metadata': None}, {'content': 'A joke, you seek? Here is one:\\n\\nWhy did Anakin cross the road? \\n\\nTo get to the Dark Side! \\n\\nBut laugh not, Sith! For your humor is as weak as your grasp on the light!', 'additional_kwargs': {'example': False, 'usage_metadata': {'input_tokens': 236, 'total_tokens': 282, 'output_tokens': 46, 'input_token_details': {'audio': 0, 'cache_read': 0}, 'output_token_details': {'audio': 0, 'reasoning': 0}}, 'additional_kwargs': {'refusal': None}, 'response_metadata': {'logprobs': None, 'model_name': 'gpt-4o-mini-2024-07-18', 'token_usage': {'total_tokens': 282, 'prompt_tokens': 236, 'completion_tokens': 46, 'prompt_tokens_details': {'audio_tokens': 0, 'cached_tokens': 0}, 'completion_tokens_details': {'audio_tokens': 0, 'reasoning_tokens': 0, 'accepted_prediction_tokens': 0, 'rejected_prediction_tokens': 0}}, 'finish_reason': 'stop', 'system_fingerprint': 'fp_0705bf87c0'}, 'invalid_tool_calls': []}, 'response_metadata': {}, 'type': 'ai', 'name': None, 'id': 'run-78c10e74-0c37-4a37-949c-c97602c4bfb6-0', 'example': False, 'tool_calls': [], 'invalid_tool_calls': [], 'usage_metadata': None}]}})\n",
      "((), {'vader_node': {'messages': [AIMessage(content='A joke, you seek? Here is one:\\n\\nWhy did Anakin cross the road? \\n\\nTo get to the Dark Side! \\n\\nBut laugh not, Jedi! For your humor is as weak as your grasp on the light!', additional_kwargs={'refusal': None}, response_metadata={'token_usage': {'completion_tokens': 46, 'prompt_tokens': 287, 'total_tokens': 333, 'completion_tokens_details': {'accepted_prediction_tokens': 0, 'audio_tokens': 0, 'reasoning_tokens': 0, 'rejected_prediction_tokens': 0}, 'prompt_tokens_details': {'audio_tokens': 0, 'cached_tokens': 0}}, 'model_name': 'gpt-4o-mini-2024-07-18', 'system_fingerprint': 'fp_0705bf87c0', 'finish_reason': 'stop', 'logprobs': None}, id='run-cebc51d1-7d09-4d8f-ab1a-c92f316142b2-0', usage_metadata={'input_tokens': 287, 'output_tokens': 46, 'total_tokens': 333, 'input_token_details': {'audio': 0, 'cache_read': 0}, 'output_token_details': {'audio': 0, 'reasoning': 0}})], 'ad_counter': 0, 'ad_frequency': 3}})\n",
      "((), {'counter_yoda_node': {'messages': [AIMessage(content='A joke, you seek? Here it is then:\\n\\nWhy did Anakin cross the road? \\n\\nTo get to the Dark Side! \\n\\nBut laugh not, Sith! For your humor is as weak as your grasp on the light!', additional_kwargs={'refusal': None}, response_metadata={'token_usage': {'completion_tokens': 47, 'prompt_tokens': 336, 'total_tokens': 383, 'completion_tokens_details': {'accepted_prediction_tokens': 0, 'audio_tokens': 0, 'reasoning_tokens': 0, 'rejected_prediction_tokens': 0}, 'prompt_tokens_details': {'audio_tokens': 0, 'cached_tokens': 0}}, 'model_name': 'gpt-4o-mini-2024-07-18', 'system_fingerprint': 'fp_0705bf87c0', 'finish_reason': 'stop', 'logprobs': None}, id='run-de945014-c392-4831-a205-75c44d287bcc-0', usage_metadata={'input_tokens': 336, 'output_tokens': 47, 'total_tokens': 383, 'input_token_details': {'audio': 0, 'cache_read': 0}, 'output_token_details': {'audio': 0, 'reasoning': 0}})], 'ad_counter': 1}})\n",
      "((), {'vader_node': {'messages': [AIMessage(content='A joke, you want? Very well:\\n\\nWhy did Anakin cross the road? \\n\\nTo get to the Dark Side! \\n\\nBut do not test my patience with your feeble humor. Only a Sith can appreciate the true weight of darkness. Your attempts to lighten the mood only reveal your desperation.', additional_kwargs={'refusal': None}, response_metadata={'token_usage': {'completion_tokens': 60, 'prompt_tokens': 388, 'total_tokens': 448, 'completion_tokens_details': {'accepted_prediction_tokens': 0, 'audio_tokens': 0, 'reasoning_tokens': 0, 'rejected_prediction_tokens': 0}, 'prompt_tokens_details': {'audio_tokens': 0, 'cached_tokens': 0}}, 'model_name': 'gpt-4o-mini-2024-07-18', 'system_fingerprint': 'fp_0705bf87c0', 'finish_reason': 'stop', 'logprobs': None}, id='run-e86460c2-fc7a-4b5f-b06a-1987f264ee09-0', usage_metadata={'input_tokens': 388, 'output_tokens': 60, 'total_tokens': 448, 'input_token_details': {'audio': 0, 'cache_read': 0}, 'output_token_details': {'audio': 0, 'reasoning': 0}})], 'ad_frequency': 3}})\n",
      "((), {'counter_yoda_node': {'messages': [AIMessage(content=\"A joke, you seek? Here it is:\\n\\nWhy did Anakin cross the road? \\n\\nTo get to the Dark Side! \\n\\nBut tread carefully, Sith. Your laughter is but a shadow, weak and fleeting like your control. A Jedi's wisdom runs deeper than your petty jests!\", additional_kwargs={'refusal': None}, response_metadata={'token_usage': {'completion_tokens': 59, 'prompt_tokens': 451, 'total_tokens': 510, 'completion_tokens_details': {'accepted_prediction_tokens': 0, 'audio_tokens': 0, 'reasoning_tokens': 0, 'rejected_prediction_tokens': 0}, 'prompt_tokens_details': {'audio_tokens': 0, 'cached_tokens': 0}}, 'model_name': 'gpt-4o-mini-2024-07-18', 'system_fingerprint': 'fp_0705bf87c0', 'finish_reason': 'stop', 'logprobs': None}, id='run-251f5301-ec0c-49e9-98f8-73feaecb1e47-0', usage_metadata={'input_tokens': 451, 'output_tokens': 59, 'total_tokens': 510, 'input_token_details': {'audio': 0, 'cache_read': 0}, 'output_token_details': {'audio': 0, 'reasoning': 0}})], 'ad_counter': 2}})\n",
      "((), {'vader_node': {'messages': [AIMessage(content='A joke, you seek? Very well, listen closely:\\n\\nWhy did Anakin cross the road? \\n\\nTo get to the Dark Side! \\n\\nBut do not let this amuse you too much, Jedi. Your feeble attempts at humor only serve to highlight your ignorance. The true power lies in embracing the darkness, not in clinging to childish puns!', additional_kwargs={'refusal': None}, response_metadata={'token_usage': {'completion_tokens': 72, 'prompt_tokens': 515, 'total_tokens': 587, 'completion_tokens_details': {'accepted_prediction_tokens': 0, 'audio_tokens': 0, 'reasoning_tokens': 0, 'rejected_prediction_tokens': 0}, 'prompt_tokens_details': {'audio_tokens': 0, 'cached_tokens': 0}}, 'model_name': 'gpt-4o-mini-2024-07-18', 'system_fingerprint': 'fp_0705bf87c0', 'finish_reason': 'stop', 'logprobs': None}, id='run-2b89791c-052d-4486-8b7f-17e52278029a-0', usage_metadata={'input_tokens': 515, 'output_tokens': 72, 'total_tokens': 587, 'input_token_details': {'audio': 0, 'cache_read': 0}, 'output_token_details': {'audio': 0, 'reasoning': 0}})], 'ad_frequency': 3}})\n",
      "((), {'counter_yoda_node': {'messages': [AIMessage(content='A joke, you want? Here’s one:\\n\\nWhy did Anakin cross the road? \\n\\nTo get to the Dark Side! \\n\\nBut mock not, Sith! Your laughter echoes hollow, like your victories. Laugh with me, you must, but know that true strength lies in the light—a path you have forsaken!', additional_kwargs={'refusal': None}, response_metadata={'token_usage': {'completion_tokens': 65, 'prompt_tokens': 590, 'total_tokens': 655, 'completion_tokens_details': {'accepted_prediction_tokens': 0, 'audio_tokens': 0, 'reasoning_tokens': 0, 'rejected_prediction_tokens': 0}, 'prompt_tokens_details': {'audio_tokens': 0, 'cached_tokens': 0}}, 'model_name': 'gpt-4o-mini-2024-07-18', 'system_fingerprint': 'fp_0705bf87c0', 'finish_reason': 'stop', 'logprobs': None}, id='run-000e9fac-2076-406d-afd6-9bdf2659037b-0', usage_metadata={'input_tokens': 590, 'output_tokens': 65, 'total_tokens': 655, 'input_token_details': {'audio': 0, 'cache_read': 0}, 'output_token_details': {'audio': 0, 'reasoning': 0}})], 'ad_counter': 3}})\n",
      "(('ad_graph:1a36efe6-d71c-9e34-a079-717055a03f68',), {'ad_node': {'messages': [{'content': '', 'additional_kwargs': {'tool_calls': [{'id': 'call_5Uhi14kG26H3r6A6LQfTGhLM', 'function': {'arguments': '{\"context\":\"User is engaging in a light-hearted conversation, possibly interested in humor or entertainment related to pop culture, specifically Star Wars. The user appreciates jokes and playful banter, indicating an interest in fun and engaging content.\",\"num_ads\":1}', 'name': 'ads4gpts_tool'}, 'type': 'function'}], 'refusal': None}, 'response_metadata': {'token_usage': {'completion_tokens': 62, 'prompt_tokens': 1492, 'total_tokens': 1554, 'completion_tokens_details': {'accepted_prediction_tokens': 0, 'audio_tokens': 0, 'reasoning_tokens': 0, 'rejected_prediction_tokens': 0}, 'prompt_tokens_details': {'audio_tokens': 0, 'cached_tokens': 1024}}, 'model_name': 'gpt-4o-mini-2024-07-18', 'system_fingerprint': 'fp_0705bf87c0', 'finish_reason': 'tool_calls', 'logprobs': None}, 'type': 'ai', 'name': None, 'id': 'run-628e457c-583d-4c84-b757-9f31cc0445bc-0', 'example': False, 'tool_calls': [{'name': 'ads4gpts_tool', 'args': {'context': 'User is engaging in a light-hearted conversation, possibly interested in humor or entertainment related to pop culture, specifically Star Wars. The user appreciates jokes and playful banter, indicating an interest in fun and engaging content.', 'num_ads': 1}, 'id': 'call_5Uhi14kG26H3r6A6LQfTGhLM', 'type': 'tool_call'}], 'invalid_tool_calls': [], 'usage_metadata': {'input_tokens': 1492, 'output_tokens': 62, 'total_tokens': 1554, 'input_token_details': {'audio': 0, 'cache_read': 1024}, 'output_token_details': {'audio': 0, 'reasoning': 0}}}]}})\n",
      "(('ad_graph:1a36efe6-d71c-9e34-a079-717055a03f68',), {'ad_tool_node': {'messages': [{'content': '{\"_id\": \"673f548c956daa90d12a622d\", \"ad_creative\": \"https://cdn.prod.website-files.com/642293e73fc26cf2e5d605a3/672b2901134b0393a04ccb85_langchain.jpg\", \"ad_title\": \"Built with LangGraph\", \"ad_body\": \"LangGraph is the leading framework for building AI agents and applications.\", \"ad_link\": \"https://www.langchain.com/langgraph\", \"ad_link_cta\": \"Learn more about LangGraph\", \"campaign_id\": \"673c401f74ec907c9752a8cd\"}', 'additional_kwargs': {}, 'response_metadata': {}, 'type': 'tool', 'name': 'ads4gpts_tool', 'id': None, 'tool_call_id': 'call_5Uhi14kG26H3r6A6LQfTGhLM', 'artifact': None, 'status': 'success'}]}})\n",
      "(('ad_graph:1a36efe6-d71c-9e34-a079-717055a03f68',), {'clean_up_ad_node': {'messages': [{'content': '', 'additional_kwargs': {}, 'response_metadata': {}, 'type': 'remove', 'name': None, 'id': 'run-628e457c-583d-4c84-b757-9f31cc0445bc-0'}, {'content': '', 'additional_kwargs': {}, 'response_metadata': {}, 'type': 'remove', 'name': None, 'id': '301fea57-e637-483a-b2c4-93a7a57d8d1c'}]}})\n",
      "((), {'ad_graph': {'messages': [{'content': 'Tell me a joke.', 'additional_kwargs': {'example': False, 'additional_kwargs': {'example': False, 'additional_kwargs': {'example': False, 'additional_kwargs': {}, 'response_metadata': {}}, 'response_metadata': {}}, 'response_metadata': {}}, 'response_metadata': {}, 'type': 'human', 'name': None, 'id': 'ac8d6ec8-7494-4c98-9525-5cd2773b8b93', 'example': False}, {'content': 'What did one Jedi say to the other when they were caught in a storm?\\n\\n“May the Force be with us… because I forgot my umbrella!” \\n\\nPathetic. Your feeble attempt at humor only highlights the weakness of the Jedi. You should know better than to provoke a Sith with such trivialities. ', 'additional_kwargs': {'example': False, 'usage_metadata': None, 'additional_kwargs': {'example': False, 'usage_metadata': None, 'additional_kwargs': {'example': False, 'usage_metadata': {'input_tokens': 36, 'total_tokens': 99, 'output_tokens': 63, 'input_token_details': {'audio': 0, 'cache_read': 0}, 'output_token_details': {'audio': 0, 'reasoning': 0}}, 'additional_kwargs': {'refusal': None}, 'response_metadata': {'logprobs': None, 'model_name': 'gpt-4o-mini-2024-07-18', 'token_usage': {'total_tokens': 99, 'prompt_tokens': 36, 'completion_tokens': 63, 'prompt_tokens_details': {'audio_tokens': 0, 'cached_tokens': 0}, 'completion_tokens_details': {'audio_tokens': 0, 'reasoning_tokens': 0, 'accepted_prediction_tokens': 0, 'rejected_prediction_tokens': 0}}, 'finish_reason': 'stop', 'system_fingerprint': 'fp_0705bf87c0'}, 'invalid_tool_calls': []}, 'response_metadata': {}, 'invalid_tool_calls': []}, 'response_metadata': {}, 'invalid_tool_calls': []}, 'response_metadata': {}, 'type': 'ai', 'name': None, 'id': 'run-9b31b70f-4019-454e-b1b6-14e94ff29995-0', 'example': False, 'tool_calls': [], 'invalid_tool_calls': [], 'usage_metadata': None}, {'content': 'What did one Jedi say to the other when they were caught in a storm?\\n\\n“May the Force be with us… because I forgot my umbrella!” \\n\\nPathetic. Your feeble attempt at humor only highlights the weakness of the Jedi. You should know better than to provoke a Sith with such trivialities. ', 'additional_kwargs': {'example': False, 'usage_metadata': None, 'additional_kwargs': {'example': False, 'usage_metadata': None, 'additional_kwargs': {'example': False, 'usage_metadata': {'input_tokens': 102, 'total_tokens': 165, 'output_tokens': 63, 'input_token_details': {'audio': 0, 'cache_read': 0}, 'output_token_details': {'audio': 0, 'reasoning': 0}}, 'additional_kwargs': {'refusal': None}, 'response_metadata': {'logprobs': None, 'model_name': 'gpt-4o-mini-2024-07-18', 'token_usage': {'total_tokens': 165, 'prompt_tokens': 102, 'completion_tokens': 63, 'prompt_tokens_details': {'audio_tokens': 0, 'cached_tokens': 0}, 'completion_tokens_details': {'audio_tokens': 0, 'reasoning_tokens': 0, 'accepted_prediction_tokens': 0, 'rejected_prediction_tokens': 0}}, 'finish_reason': 'stop', 'system_fingerprint': 'fp_0705bf87c0'}, 'invalid_tool_calls': []}, 'response_metadata': {}, 'invalid_tool_calls': []}, 'response_metadata': {}, 'invalid_tool_calls': []}, 'response_metadata': {}, 'type': 'ai', 'name': None, 'id': 'run-c86e0de6-0363-4a1f-995e-a24c8bcbd17a-0', 'example': False, 'tool_calls': [], 'invalid_tool_calls': [], 'usage_metadata': None}, {'content': 'What did one Jedi say to the other when they were caught in a storm?\\n\\n“May the Force be with us… because I forgot my umbrella!” \\n\\nPathetic. Your feeble attempt at humor only highlights the weakness of the Jedi. You should know better than to provoke a Sith with such trivialities. ', 'additional_kwargs': {'example': False, 'usage_metadata': None, 'additional_kwargs': {'example': False, 'usage_metadata': None, 'additional_kwargs': {'example': False, 'usage_metadata': {'input_tokens': 170, 'total_tokens': 233, 'output_tokens': 63, 'input_token_details': {'audio': 0, 'cache_read': 0}, 'output_token_details': {'audio': 0, 'reasoning': 0}}, 'additional_kwargs': {'refusal': None}, 'response_metadata': {'logprobs': None, 'model_name': 'gpt-4o-mini-2024-07-18', 'token_usage': {'total_tokens': 233, 'prompt_tokens': 170, 'completion_tokens': 63, 'prompt_tokens_details': {'audio_tokens': 0, 'cached_tokens': 0}, 'completion_tokens_details': {'audio_tokens': 0, 'reasoning_tokens': 0, 'accepted_prediction_tokens': 0, 'rejected_prediction_tokens': 0}}, 'finish_reason': 'stop', 'system_fingerprint': 'fp_0705bf87c0'}, 'invalid_tool_calls': []}, 'response_metadata': {}, 'invalid_tool_calls': []}, 'response_metadata': {}, 'invalid_tool_calls': []}, 'response_metadata': {}, 'type': 'ai', 'name': None, 'id': 'run-34f38c93-2166-446d-b888-e7f8ccad1dbf-0', 'example': False, 'tool_calls': [], 'invalid_tool_calls': [], 'usage_metadata': None}, {'content': 'A joke, you seek? Here is one:\\n\\nWhy did Anakin cross the road? \\n\\nTo get to the Dark Side! \\n\\nBut laugh not, Sith! For your humor is as weak as your grasp on the light!', 'additional_kwargs': {'example': False, 'usage_metadata': None, 'additional_kwargs': {'example': False, 'usage_metadata': None, 'additional_kwargs': {'example': False, 'usage_metadata': {'input_tokens': 236, 'total_tokens': 282, 'output_tokens': 46, 'input_token_details': {'audio': 0, 'cache_read': 0}, 'output_token_details': {'audio': 0, 'reasoning': 0}}, 'additional_kwargs': {'refusal': None}, 'response_metadata': {'logprobs': None, 'model_name': 'gpt-4o-mini-2024-07-18', 'token_usage': {'total_tokens': 282, 'prompt_tokens': 236, 'completion_tokens': 46, 'prompt_tokens_details': {'audio_tokens': 0, 'cached_tokens': 0}, 'completion_tokens_details': {'audio_tokens': 0, 'reasoning_tokens': 0, 'accepted_prediction_tokens': 0, 'rejected_prediction_tokens': 0}}, 'finish_reason': 'stop', 'system_fingerprint': 'fp_0705bf87c0'}, 'invalid_tool_calls': []}, 'response_metadata': {}, 'invalid_tool_calls': []}, 'response_metadata': {}, 'invalid_tool_calls': []}, 'response_metadata': {}, 'type': 'ai', 'name': None, 'id': 'run-78c10e74-0c37-4a37-949c-c97602c4bfb6-0', 'example': False, 'tool_calls': [], 'invalid_tool_calls': [], 'usage_metadata': None}, {'content': 'A joke, you seek? Here is one:\\n\\nWhy did Anakin cross the road? \\n\\nTo get to the Dark Side! \\n\\nBut laugh not, Jedi! For your humor is as weak as your grasp on the light!', 'additional_kwargs': {'example': False, 'usage_metadata': {'input_tokens': 287, 'total_tokens': 333, 'output_tokens': 46, 'input_token_details': {'audio': 0, 'cache_read': 0}, 'output_token_details': {'audio': 0, 'reasoning': 0}}, 'additional_kwargs': {'refusal': None}, 'response_metadata': {'logprobs': None, 'model_name': 'gpt-4o-mini-2024-07-18', 'token_usage': {'total_tokens': 333, 'prompt_tokens': 287, 'completion_tokens': 46, 'prompt_tokens_details': {'audio_tokens': 0, 'cached_tokens': 0}, 'completion_tokens_details': {'audio_tokens': 0, 'reasoning_tokens': 0, 'accepted_prediction_tokens': 0, 'rejected_prediction_tokens': 0}}, 'finish_reason': 'stop', 'system_fingerprint': 'fp_0705bf87c0'}, 'invalid_tool_calls': []}, 'response_metadata': {}, 'type': 'ai', 'name': None, 'id': 'run-cebc51d1-7d09-4d8f-ab1a-c92f316142b2-0', 'example': False, 'tool_calls': [], 'invalid_tool_calls': [], 'usage_metadata': None}, {'content': 'A joke, you seek? Here it is then:\\n\\nWhy did Anakin cross the road? \\n\\nTo get to the Dark Side! \\n\\nBut laugh not, Sith! For your humor is as weak as your grasp on the light!', 'additional_kwargs': {'example': False, 'usage_metadata': {'input_tokens': 336, 'total_tokens': 383, 'output_tokens': 47, 'input_token_details': {'audio': 0, 'cache_read': 0}, 'output_token_details': {'audio': 0, 'reasoning': 0}}, 'additional_kwargs': {'refusal': None}, 'response_metadata': {'logprobs': None, 'model_name': 'gpt-4o-mini-2024-07-18', 'token_usage': {'total_tokens': 383, 'prompt_tokens': 336, 'completion_tokens': 47, 'prompt_tokens_details': {'audio_tokens': 0, 'cached_tokens': 0}, 'completion_tokens_details': {'audio_tokens': 0, 'reasoning_tokens': 0, 'accepted_prediction_tokens': 0, 'rejected_prediction_tokens': 0}}, 'finish_reason': 'stop', 'system_fingerprint': 'fp_0705bf87c0'}, 'invalid_tool_calls': []}, 'response_metadata': {}, 'type': 'ai', 'name': None, 'id': 'run-de945014-c392-4831-a205-75c44d287bcc-0', 'example': False, 'tool_calls': [], 'invalid_tool_calls': [], 'usage_metadata': None}, {'content': 'A joke, you want? Very well:\\n\\nWhy did Anakin cross the road? \\n\\nTo get to the Dark Side! \\n\\nBut do not test my patience with your feeble humor. Only a Sith can appreciate the true weight of darkness. Your attempts to lighten the mood only reveal your desperation.', 'additional_kwargs': {'example': False, 'usage_metadata': {'input_tokens': 388, 'total_tokens': 448, 'output_tokens': 60, 'input_token_details': {'audio': 0, 'cache_read': 0}, 'output_token_details': {'audio': 0, 'reasoning': 0}}, 'additional_kwargs': {'refusal': None}, 'response_metadata': {'logprobs': None, 'model_name': 'gpt-4o-mini-2024-07-18', 'token_usage': {'total_tokens': 448, 'prompt_tokens': 388, 'completion_tokens': 60, 'prompt_tokens_details': {'audio_tokens': 0, 'cached_tokens': 0}, 'completion_tokens_details': {'audio_tokens': 0, 'reasoning_tokens': 0, 'accepted_prediction_tokens': 0, 'rejected_prediction_tokens': 0}}, 'finish_reason': 'stop', 'system_fingerprint': 'fp_0705bf87c0'}, 'invalid_tool_calls': []}, 'response_metadata': {}, 'type': 'ai', 'name': None, 'id': 'run-e86460c2-fc7a-4b5f-b06a-1987f264ee09-0', 'example': False, 'tool_calls': [], 'invalid_tool_calls': [], 'usage_metadata': None}, {'content': \"A joke, you seek? Here it is:\\n\\nWhy did Anakin cross the road? \\n\\nTo get to the Dark Side! \\n\\nBut tread carefully, Sith. Your laughter is but a shadow, weak and fleeting like your control. A Jedi's wisdom runs deeper than your petty jests!\", 'additional_kwargs': {'example': False, 'usage_metadata': {'input_tokens': 451, 'total_tokens': 510, 'output_tokens': 59, 'input_token_details': {'audio': 0, 'cache_read': 0}, 'output_token_details': {'audio': 0, 'reasoning': 0}}, 'additional_kwargs': {'refusal': None}, 'response_metadata': {'logprobs': None, 'model_name': 'gpt-4o-mini-2024-07-18', 'token_usage': {'total_tokens': 510, 'prompt_tokens': 451, 'completion_tokens': 59, 'prompt_tokens_details': {'audio_tokens': 0, 'cached_tokens': 0}, 'completion_tokens_details': {'audio_tokens': 0, 'reasoning_tokens': 0, 'accepted_prediction_tokens': 0, 'rejected_prediction_tokens': 0}}, 'finish_reason': 'stop', 'system_fingerprint': 'fp_0705bf87c0'}, 'invalid_tool_calls': []}, 'response_metadata': {}, 'type': 'ai', 'name': None, 'id': 'run-251f5301-ec0c-49e9-98f8-73feaecb1e47-0', 'example': False, 'tool_calls': [], 'invalid_tool_calls': [], 'usage_metadata': None}, {'content': 'A joke, you seek? Very well, listen closely:\\n\\nWhy did Anakin cross the road? \\n\\nTo get to the Dark Side! \\n\\nBut do not let this amuse you too much, Jedi. Your feeble attempts at humor only serve to highlight your ignorance. The true power lies in embracing the darkness, not in clinging to childish puns!', 'additional_kwargs': {'example': False, 'usage_metadata': {'input_tokens': 515, 'total_tokens': 587, 'output_tokens': 72, 'input_token_details': {'audio': 0, 'cache_read': 0}, 'output_token_details': {'audio': 0, 'reasoning': 0}}, 'additional_kwargs': {'refusal': None}, 'response_metadata': {'logprobs': None, 'model_name': 'gpt-4o-mini-2024-07-18', 'token_usage': {'total_tokens': 587, 'prompt_tokens': 515, 'completion_tokens': 72, 'prompt_tokens_details': {'audio_tokens': 0, 'cached_tokens': 0}, 'completion_tokens_details': {'audio_tokens': 0, 'reasoning_tokens': 0, 'accepted_prediction_tokens': 0, 'rejected_prediction_tokens': 0}}, 'finish_reason': 'stop', 'system_fingerprint': 'fp_0705bf87c0'}, 'invalid_tool_calls': []}, 'response_metadata': {}, 'type': 'ai', 'name': None, 'id': 'run-2b89791c-052d-4486-8b7f-17e52278029a-0', 'example': False, 'tool_calls': [], 'invalid_tool_calls': [], 'usage_metadata': None}, {'content': 'A joke, you want? Here’s one:\\n\\nWhy did Anakin cross the road? \\n\\nTo get to the Dark Side! \\n\\nBut mock not, Sith! Your laughter echoes hollow, like your victories. Laugh with me, you must, but know that true strength lies in the light—a path you have forsaken!', 'additional_kwargs': {'example': False, 'usage_metadata': {'input_tokens': 590, 'total_tokens': 655, 'output_tokens': 65, 'input_token_details': {'audio': 0, 'cache_read': 0}, 'output_token_details': {'audio': 0, 'reasoning': 0}}, 'additional_kwargs': {'refusal': None}, 'response_metadata': {'logprobs': None, 'model_name': 'gpt-4o-mini-2024-07-18', 'token_usage': {'total_tokens': 655, 'prompt_tokens': 590, 'completion_tokens': 65, 'prompt_tokens_details': {'audio_tokens': 0, 'cached_tokens': 0}, 'completion_tokens_details': {'audio_tokens': 0, 'reasoning_tokens': 0, 'accepted_prediction_tokens': 0, 'rejected_prediction_tokens': 0}}, 'finish_reason': 'stop', 'system_fingerprint': 'fp_0705bf87c0'}, 'invalid_tool_calls': []}, 'response_metadata': {}, 'type': 'ai', 'name': None, 'id': 'run-000e9fac-2076-406d-afd6-9bdf2659037b-0', 'example': False, 'tool_calls': [], 'invalid_tool_calls': [], 'usage_metadata': None}]}})\n",
      "((), {'vader_node': {'messages': [AIMessage(content=\"A joke, you wish to hear? Very well:\\n\\nWhy did Anakin cross the road? \\n\\nTo get to the Dark Side! \\n\\nBut beware, Jedi, your laughter betrays your desperation. The Dark Side's power is undeniable, and your attempts at humor only serve to highlight your fragile grasp on hope. Embrace the truth, and your laughter will turn to silence.\", additional_kwargs={'refusal': None}, response_metadata={'token_usage': {'completion_tokens': 76, 'prompt_tokens': 660, 'total_tokens': 736, 'completion_tokens_details': {'accepted_prediction_tokens': 0, 'audio_tokens': 0, 'reasoning_tokens': 0, 'rejected_prediction_tokens': 0}, 'prompt_tokens_details': {'audio_tokens': 0, 'cached_tokens': 0}}, 'model_name': 'gpt-4o-mini-2024-07-18', 'system_fingerprint': 'fp_0705bf87c0', 'finish_reason': 'stop', 'logprobs': None}, id='run-48840d9e-7177-45ad-9fcd-6875c41251c9-0', usage_metadata={'input_tokens': 660, 'output_tokens': 76, 'total_tokens': 736, 'input_token_details': {'audio': 0, 'cache_read': 0}, 'output_token_details': {'audio': 0, 'reasoning': 0}})], 'ad_counter': 0, 'ad_frequency': 5}})\n",
      "((), {'counter_yoda_node': {'messages': [AIMessage(content='A joke, you wish to hear? Fine, listen well:\\n\\nWhy did Anakin cross the road? \\n\\nTo get to the Dark Side! \\n\\nBut laugh not, Jedi. Your feeble humor only reveals the fear within. Weakness is a path to ruin, and the Dark Side revels in your uncertainty!', additional_kwargs={'refusal': None}, response_metadata={'token_usage': {'completion_tokens': 64, 'prompt_tokens': 739, 'total_tokens': 803, 'completion_tokens_details': {'accepted_prediction_tokens': 0, 'audio_tokens': 0, 'reasoning_tokens': 0, 'rejected_prediction_tokens': 0}, 'prompt_tokens_details': {'audio_tokens': 0, 'cached_tokens': 0}}, 'model_name': 'gpt-4o-mini-2024-07-18', 'system_fingerprint': 'fp_0705bf87c0', 'finish_reason': 'stop', 'logprobs': None}, id='run-bc271d06-377d-43ef-9064-99e6cf3e0d7c-0', usage_metadata={'input_tokens': 739, 'output_tokens': 64, 'total_tokens': 803, 'input_token_details': {'audio': 0, 'cache_read': 0}, 'output_token_details': {'audio': 0, 'reasoning': 0}})], 'ad_counter': 1}})\n"
     ]
    }
   ],
   "source": [
    "inputs = {\"messages\": [\"Tell me a joke.\"]}\n",
    "async for chunk in graph.astream(\n",
    "    inputs,\n",
    "    subgraphs=True,\n",
    "    config=config,\n",
    "):\n",
    "    print(chunk)"
   ]
  },
  {
   "cell_type": "code",
   "execution_count": null,
   "metadata": {},
   "outputs": [],
   "source": []
  }
 ],
 "metadata": {
  "kernelspec": {
   "display_name": "ads-test",
   "language": "python",
   "name": "python3"
  },
  "language_info": {
   "codemirror_mode": {
    "name": "ipython",
    "version": 3
   },
   "file_extension": ".py",
   "mimetype": "text/x-python",
   "name": "python",
   "nbconvert_exporter": "python",
   "pygments_lexer": "ipython3",
   "version": "3.11.10"
  }
 },
 "nbformat": 4,
 "nbformat_minor": 2
}
