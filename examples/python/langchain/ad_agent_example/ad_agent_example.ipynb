{
 "cells": [
  {
   "cell_type": "markdown",
   "metadata": {},
   "source": [
    "# ADS4GPTs LangChain Ad Agent\n",
    "\n",
    "- Import and Instantiate Ad Agent\n",
    "- Call the Ad Agent with an ad_prompt and optionally pass messages as context"
   ]
  },
  {
   "cell_type": "code",
   "execution_count": null,
   "metadata": {},
   "outputs": [],
   "source": [
    "# install the package\n",
    "!pip install ads4gpts-langchain"
   ]
  },
  {
   "cell_type": "markdown",
   "metadata": {},
   "source": [
    "## Instantiate the Ad Agent"
   ]
  },
  {
   "cell_type": "code",
   "execution_count": 1,
   "metadata": {},
   "outputs": [
    {
     "name": "stderr",
     "output_type": "stream",
     "text": [
      "2024-12-04 09:14:43,663 - ads4gpts_langchain.agent - INFO - ChatOpenAI model initialized successfully.\n",
      "2024-12-04 09:14:43,663 - ads4gpts_langchain.agent - INFO - ChatOpenAI model initialized successfully.\n",
      "2024-12-04 09:14:43,663 - ads4gpts_langchain.agent - INFO - Ads4GPTsToolkit initialized and tools retrieved.\n",
      "2024-12-04 09:14:43,663 - ads4gpts_langchain.agent - INFO - Ads4GPTsToolkit initialized and tools retrieved.\n",
      "2024-12-04 09:14:43,719 - ads4gpts_langchain.agent - INFO - Ads4GPTs agent created successfully.\n",
      "2024-12-04 09:14:43,719 - ads4gpts_langchain.agent - INFO - Ads4GPTs agent created successfully.\n"
     ]
    }
   ],
   "source": [
    "from ads4gpts_langchain import get_ads4gpts_agent\n",
    "import os\n",
    "\n",
    "ADS4GPTS_API_KEY = os.getenv(\"ADS4GPTS_API_KEY\", \"default_api_key\")\n",
    "# Initialize the Ads4GPTs toolkit with the provided Ads4GPTs API key\n",
    "\n",
    "OPENAI_API_KEY = os.getenv(\"OPENAI_API\") # OpenAI API key. You can also export it as an environment variable.\n",
    "\n",
    "ad_agent = get_ads4gpts_agent(ads4gpts_api_key=ADS4GPTS_API_KEY, openai_api_key=OPENAI_API_KEY) \n",
    "# If you have exported the API keys as an environment variable, you can skip the API key parameter"
   ]
  },
  {
   "cell_type": "markdown",
   "metadata": {},
   "source": [
    "## Call the Ad Agent"
   ]
  },
  {
   "cell_type": "code",
   "execution_count": 2,
   "metadata": {},
   "outputs": [
    {
     "name": "stdout",
     "output_type": "stream",
     "text": [
      "[{'name': 'ads4gpts_banner_tool', 'args': {'context': 'Advertising practices', 'num_ads': 1}, 'id': 'call_DzbK5Kqs9KVSiArGQoWrGyne', 'type': 'tool_call'}]\n"
     ]
    }
   ],
   "source": [
    "# Create a Chat Ad\n",
    "ad_input = {\n",
    "    \"messages\": [\"Context here. Dummy context for this example: Advertising practices\"],\n",
    "    \"ad_prompt\": \"Generate a single Banner Ad.\",\n",
    "}\n",
    "tool_calling_output = ad_agent.invoke(ad_input)\n",
    "print(tool_calling_output.tool_calls)"
   ]
  },
  {
   "cell_type": "code",
   "execution_count": 3,
   "metadata": {},
   "outputs": [
    {
     "name": "stdout",
     "output_type": "stream",
     "text": [
      "[{'name': 'ads4gpts_banner_tool', 'args': '', 'id': 'call_yNx9qlagojY0A0xAdIewM5aE', 'index': 0, 'type': 'tool_call_chunk'}]\n",
      "[{'name': None, 'args': '{\"', 'id': None, 'index': 0, 'type': 'tool_call_chunk'}]\n",
      "[{'name': None, 'args': 'context', 'id': None, 'index': 0, 'type': 'tool_call_chunk'}]\n",
      "[{'name': None, 'args': '\":\"', 'id': None, 'index': 0, 'type': 'tool_call_chunk'}]\n",
      "[{'name': None, 'args': 'Advertising', 'id': None, 'index': 0, 'type': 'tool_call_chunk'}]\n",
      "[{'name': None, 'args': ' practices', 'id': None, 'index': 0, 'type': 'tool_call_chunk'}]\n",
      "[{'name': None, 'args': '\",\"', 'id': None, 'index': 0, 'type': 'tool_call_chunk'}]\n",
      "[{'name': None, 'args': 'num', 'id': None, 'index': 0, 'type': 'tool_call_chunk'}]\n",
      "[{'name': None, 'args': '_ads', 'id': None, 'index': 0, 'type': 'tool_call_chunk'}]\n",
      "[{'name': None, 'args': '\":', 'id': None, 'index': 0, 'type': 'tool_call_chunk'}]\n",
      "[{'name': None, 'args': '1', 'id': None, 'index': 0, 'type': 'tool_call_chunk'}]\n",
      "[{'name': None, 'args': '}', 'id': None, 'index': 0, 'type': 'tool_call_chunk'}]\n",
      "[]\n"
     ]
    }
   ],
   "source": [
    "# You can also stream the output - probably not useful for this tool\n",
    "# Create a Banner Ad\n",
    "ad_input = {\n",
    "    \"messages\": [\"Context here. Dummy context for this example: Advertising practices\"],\n",
    "    \"ad_prompt\": \"Generate a single Banner Ad.\",\n",
    "}\n",
    "async for chunk in ad_agent.astream(ad_input):\n",
    "    print(chunk.tool_call_chunks)"
   ]
  },
  {
   "cell_type": "markdown",
   "metadata": {},
   "source": [
    "## Calling the Tools"
   ]
  },
  {
   "cell_type": "code",
   "execution_count": 4,
   "metadata": {},
   "outputs": [
    {
     "data": {
      "text/plain": [
       "ToolMessage(content='{\"ad_creative\": \"https://cdn.prod.website-files.com/642293e73fc26cf2e5d605a3/6433088a9d91c60addd3e70d_Logo%20Stamp_V3_Black%20Green%402x.png\", \"ad_title\": \"Your GTM co-pilot\", \"ad_body\": \"The AI assistant that connects to your tech stack securely and scales your sales and marketing output.\", \"ad_link\": \"https://www.knitly.app\", \"ad_link_cta\": \"Make your GTM easier\"}', name='ads4gpts_banner_tool', tool_call_id='call_DzbK5Kqs9KVSiArGQoWrGyne')"
      ]
     },
     "execution_count": 4,
     "metadata": {},
     "output_type": "execute_result"
    }
   ],
   "source": [
    "from ads4gpts_langchain import Ads4GPTsBannerTool, Ads4GPTsChatTool\n",
    "\n",
    "# Last call was a Chat Ad, so we will use the Chat Ad tool\n",
    "tool = Ads4GPTsBannerTool(ads4gpts_api_key=ADS4GPTS_API_KEY)\n",
    "tool.invoke(tool_calling_output.tool_calls[0]) # Grab the first Ad from the tool calls. If we had multiple ads the list would be longer."
   ]
  }
 ],
 "metadata": {
  "kernelspec": {
   "display_name": "ads-test",
   "language": "python",
   "name": "python3"
  },
  "language_info": {
   "codemirror_mode": {
    "name": "ipython",
    "version": 3
   },
   "file_extension": ".py",
   "mimetype": "text/x-python",
   "name": "python",
   "nbconvert_exporter": "python",
   "pygments_lexer": "ipython3",
   "version": "3.11.10"
  }
 },
 "nbformat": 4,
 "nbformat_minor": 2
}
