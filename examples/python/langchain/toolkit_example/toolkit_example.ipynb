{
 "cells": [
  {
   "cell_type": "markdown",
   "metadata": {},
   "source": [
    "# ADS4GPTs LangChain Toolkit\n",
    "\n",
    "- Instantiate Ads4GPTsToolkit\n",
    "- Bind the toolkit to the model (ChatOpenAI)\n",
    "- Call the toolkit with the arguments from the model"
   ]
  },
  {
   "cell_type": "code",
   "execution_count": null,
   "metadata": {},
   "outputs": [],
   "source": [
    "# install the package\n",
    "!pip install ads4gpts-langchain"
   ]
  },
  {
   "cell_type": "code",
   "execution_count": 1,
   "metadata": {},
   "outputs": [],
   "source": [
    "from langchain_openai import ChatOpenAI\n",
    "from ads4gpts_langchain import Ads4GPTsToolkit\n",
    "import os"
   ]
  },
  {
   "cell_type": "code",
   "execution_count": 2,
   "metadata": {},
   "outputs": [],
   "source": [
    "# Define a prompt for generating an ad based on the context\n",
    "ad_prompt = \"This is a dummy context. It talks about Go To Market activities. Get a single Banner Ad based on the context provided.\""
   ]
  },
  {
   "cell_type": "markdown",
   "metadata": {},
   "source": [
    "## Instantiate the Toolkit"
   ]
  },
  {
   "cell_type": "code",
   "execution_count": 3,
   "metadata": {},
   "outputs": [],
   "source": [
    "ADS4GPTS_API_KEY = os.getenv(\"ADS4GPTS_API_KEY\", \"default_api_key\")\n",
    "# Initialize the Ads4GPTs toolkit with the provided Ads4GPTs API key\n",
    "toolkit = Ads4GPTsToolkit(ads4gpts_api_key = ADS4GPTS_API_KEY)\n",
    "# if you have exported the API key as an environment variable or loaded in the script with dot_env, \n",
    "# you can initialize the toolkit without passing the API key as an argument\n",
    "# toolkit = Ads4GPTsToolkit()"
   ]
  },
  {
   "cell_type": "markdown",
   "metadata": {},
   "source": [
    "## Bind the model"
   ]
  },
  {
   "cell_type": "code",
   "execution_count": 4,
   "metadata": {},
   "outputs": [],
   "source": [
    "OPENAI_API_KEY = os.getenv(\"OPENAI_API_KEY\") # or you can directly pass the API key as a string\n",
    "\n",
    "llm = ChatOpenAI(model=\"gpt-4o-mini\", temperature=0.2, api_key=OPENAI_API_KEY)\n",
    "# Bind the toolkit tools to the language model to enable tool usage\n",
    "ad_agent = llm.bind_tools(toolkit.get_tools())"
   ]
  },
  {
   "cell_type": "markdown",
   "metadata": {},
   "source": [
    "## Invoke the binded model"
   ]
  },
  {
   "cell_type": "code",
   "execution_count": 5,
   "metadata": {},
   "outputs": [
    {
     "name": "stdout",
     "output_type": "stream",
     "text": [
      "content='' additional_kwargs={'tool_calls': [{'id': 'call_wWmpZDqDMmXZdbi9c7NXF6LP', 'function': {'arguments': '{\"context\":\"Go To Market activities\",\"num_ads\":1}', 'name': 'ads4gpts_banner_tool'}, 'type': 'function'}], 'refusal': None} response_metadata={'token_usage': {'completion_tokens': 26, 'prompt_tokens': 334, 'total_tokens': 360, 'completion_tokens_details': {'accepted_prediction_tokens': 0, 'audio_tokens': 0, 'reasoning_tokens': 0, 'rejected_prediction_tokens': 0}, 'prompt_tokens_details': {'audio_tokens': 0, 'cached_tokens': 0}}, 'model_name': 'gpt-4o-mini-2024-07-18', 'system_fingerprint': 'fp_0705bf87c0', 'finish_reason': 'tool_calls', 'logprobs': None} id='run-3e4b0578-bfee-4da9-9a41-67bee1c0a5e6-0' tool_calls=[{'name': 'ads4gpts_banner_tool', 'args': {'context': 'Go To Market activities', 'num_ads': 1}, 'id': 'call_wWmpZDqDMmXZdbi9c7NXF6LP', 'type': 'tool_call'}] usage_metadata={'input_tokens': 334, 'output_tokens': 26, 'total_tokens': 360, 'input_token_details': {'audio': 0, 'cache_read': 0}, 'output_token_details': {'audio': 0, 'reasoning': 0}}\n"
     ]
    }
   ],
   "source": [
    "ad_tool_call = ad_agent.invoke(ad_prompt)\n",
    "print(ad_tool_call)"
   ]
  },
  {
   "cell_type": "code",
   "execution_count": 6,
   "metadata": {},
   "outputs": [
    {
     "data": {
      "text/plain": [
       "[Ads4GPTsBannerTool(ads4gpts_api_key='default_api_key'),\n",
       " Ads4GPTsChatTool(ads4gpts_api_key='default_api_key')]"
      ]
     },
     "execution_count": 6,
     "metadata": {},
     "output_type": "execute_result"
    }
   ],
   "source": [
    "toolkit.get_tools()"
   ]
  },
  {
   "cell_type": "markdown",
   "metadata": {},
   "source": [
    "## Invoke the Tool with the model arguments"
   ]
  },
  {
   "cell_type": "code",
   "execution_count": 7,
   "metadata": {},
   "outputs": [
    {
     "data": {
      "text/plain": [
       "ToolMessage(content='{\"ad_creative\": \"https://cdn.prod.website-files.com/672dd83a7c2a40c847f82eb3/6734db83d219c8b3d376bdd6_webicon.jpg\", \"ad_title\": \"Your personal Go-To-Market Coach\", \"ad_body\": \"Infused with Go To Market tactics and strategies of 2025 alongside with general Marketing & Sales practices GTM Coach GPT is your best sidekick. Also FOREVER FREE.\", \"ad_link\": \"https://www.gtmcoachgpt.com\", \"ad_link_cta\": \"Become GTM Ninja\"}', name='ads4gpts_banner_tool', tool_call_id='call_wWmpZDqDMmXZdbi9c7NXF6LP')"
      ]
     },
     "execution_count": 7,
     "metadata": {},
     "output_type": "execute_result"
    }
   ],
   "source": [
    "ads4gpts_tool = toolkit.get_tools()[0]\n",
    "ads4gpts_tool.invoke(ad_tool_call.tool_calls[0])"
   ]
  },
  {
   "cell_type": "markdown",
   "metadata": {},
   "source": [
    "## Repeat with 2 Ads"
   ]
  },
  {
   "cell_type": "code",
   "execution_count": 6,
   "metadata": {},
   "outputs": [],
   "source": [
    "ad_prompt_two_ads = \"This is a dummy context. It talks about Go To Market activities. Get two Chat Ads based on the context provided\""
   ]
  },
  {
   "cell_type": "code",
   "execution_count": 7,
   "metadata": {},
   "outputs": [
    {
     "name": "stdout",
     "output_type": "stream",
     "text": [
      "content='' additional_kwargs={'tool_calls': [{'id': 'call_nJ0igjCVsvykmvrElxdtpfmp', 'function': {'arguments': '{\"context\":\"Go To Market activities\",\"num_ads\":2}', 'name': 'ads4gpts_chat_tool'}, 'type': 'function'}], 'refusal': None} response_metadata={'token_usage': {'completion_tokens': 26, 'prompt_tokens': 348, 'total_tokens': 374, 'completion_tokens_details': {'accepted_prediction_tokens': 0, 'audio_tokens': 0, 'reasoning_tokens': 0, 'rejected_prediction_tokens': 0}, 'prompt_tokens_details': {'audio_tokens': 0, 'cached_tokens': 0}}, 'model_name': 'gpt-4o-mini-2024-07-18', 'system_fingerprint': 'fp_3de1288069', 'finish_reason': 'tool_calls', 'logprobs': None} id='run-c0c85f59-5d67-4991-8be2-8e86ca24069b-0' tool_calls=[{'name': 'ads4gpts_chat_tool', 'args': {'context': 'Go To Market activities', 'num_ads': 2}, 'id': 'call_nJ0igjCVsvykmvrElxdtpfmp', 'type': 'tool_call'}] usage_metadata={'input_tokens': 348, 'output_tokens': 26, 'total_tokens': 374, 'input_token_details': {'audio': 0, 'cache_read': 0}, 'output_token_details': {'audio': 0, 'reasoning': 0}}\n"
     ]
    }
   ],
   "source": [
    "two_ads_tool_call = ad_agent.invoke(ad_prompt_two_ads)\n",
    "print(two_ads_tool_call)"
   ]
  },
  {
   "cell_type": "code",
   "execution_count": null,
   "metadata": {},
   "outputs": [
    {
     "data": {
      "text/plain": [
       "ToolMessage(content='[{\"ad_creative\": \"https://cdn.prod.website-files.com/642293e73fc26cf2e5d605a3/6433088a9d91c60addd3e70d_Logo%20Stamp_V3_Black%20Green%402x.png\", \"ad_title\": \"Your GTM co-pilot\", \"ad_body\": \"The AI assistant that connects to your tech stack securely and scales your sales and marketing output.\", \"ad_link\": \"https://www.knitly.app\", \"ad_link_cta\": \"Make your GTM easier\"}, {\"ad_creative\": \"https://cdn.prod.website-files.com/642293e73fc26cf2e5d605a3/6433088a9d91c60addd3e70d_Logo%20Stamp_V3_Black%20Green%402x.png\", \"ad_title\": \"Your GTM co-pilot\", \"ad_body\": \"The AI assistant that connects to your tech stack securely and scales your sales and marketing output.\", \"ad_link\": \"https://www.knitly.app\", \"ad_link_cta\": \"Make your GTM easier\"}]', name='ads4gpts_tool', tool_call_id='call_cwEWGAlLhNts7DKWZSfsMeWe')"
      ]
     },
     "execution_count": 9,
     "metadata": {},
     "output_type": "execute_result"
    }
   ],
   "source": [
    "ads4gpts_tool.invoke(two_ads_tool_call.tool_calls[0])"
   ]
  },
  {
   "cell_type": "code",
   "execution_count": null,
   "metadata": {},
   "outputs": [],
   "source": []
  }
 ],
 "metadata": {
  "kernelspec": {
   "display_name": "ads-test",
   "language": "python",
   "name": "python3"
  },
  "language_info": {
   "codemirror_mode": {
    "name": "ipython",
    "version": 3
   },
   "file_extension": ".py",
   "mimetype": "text/x-python",
   "name": "python",
   "nbconvert_exporter": "python",
   "pygments_lexer": "ipython3",
   "version": "3.11.10"
  }
 },
 "nbformat": 4,
 "nbformat_minor": 2
}
