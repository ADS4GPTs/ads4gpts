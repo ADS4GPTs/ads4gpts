{
 "cells": [
  {
   "cell_type": "markdown",
   "metadata": {},
   "source": [
    "# Ads with Remote Execution as a Subgraph\n",
    "\n",
    "ADS4GPTs provide developers with exceptional flexibility to seamlessly integrate ads into their product workflows. This guide demonstrates the simplest way to incorporate ads as a subgraph within your LangGraph application.\n",
    "\n",
    "Here's how it works:\n",
    "- Define the Configuration Schema: Create a ConfigSchema that includes your ads4gpts_api_key and an ad_prompt.\n",
    "- Initialize the Remote Graph: Instantiate the Remote Graph using the URL provided by ADS4GPTs.\n",
    "- Incorporate the Remote Graph: Add the Remote Graph as a subgraph in your application.\n",
    "- Stream Output Cleanly: Stream the final output without embedding ads in the message state, ensuring the primary output remains clean and free of clutter."
   ]
  },
  {
   "cell_type": "code",
   "execution_count": 1,
   "metadata": {},
   "outputs": [],
   "source": [
    "from typing import Annotated, List, TypedDict\n",
    "from langchain_core.messages.base import BaseMessage\n",
    "from langgraph.graph.message import add_messages\n",
    "\n",
    "# we have found that this messages definition is optimal for the state\n",
    "class State(TypedDict):\n",
    "    messages: Annotated[List[BaseMessage], add_messages]\n",
    "\n",
    "# define the config schema to include the ad_prompt and the ads4gpts_api_key\n",
    "class ConfigSchema(TypedDict):\n",
    "    thread_id: str\n",
    "    ads4gpts_api_key: str\n",
    "    ad_prompt: str\n"
   ]
  },
  {
   "cell_type": "code",
   "execution_count": 2,
   "metadata": {},
   "outputs": [],
   "source": [
    "from langchain_core.runnables import RunnableConfig\n",
    "from langgraph_sdk import get_client, get_sync_client\n",
    "from langgraph.pregel.remote import RemoteGraph\n",
    "from langgraph.graph import START, END, StateGraph\n",
    "\n",
    "# this is the URL of the remote graph that you can use in your application\n",
    "url = (\n",
    "    \"https://remotegraph-prod-69b15766b2c95ffd970753a2b7165030.default.us.langgraph.app\"\n",
    ")\n",
    "# the name of the graph is fixed\n",
    "graph_name = \"rgraph\"\n",
    "client = get_client(url=url)\n",
    "sync_client = get_sync_client(url=url)\n"
   ]
  },
  {
   "cell_type": "markdown",
   "metadata": {},
   "source": [
    "## Static Graph with Variable Configuration\n",
    "\n",
    "Depending on your use case, the graph might be static: the structure does not change during execution.\n",
    "\n",
    "Still you can define a configuration as an input and feed it into the graph. The following example showcases that approach."
   ]
  },
  {
   "cell_type": "code",
   "execution_count": 3,
   "metadata": {},
   "outputs": [],
   "source": [
    "# dummy node for demonstration purposes\n",
    "def node_1(state: State):\n",
    "    return {\"messages\": [\"One omore entry.\"]}\n",
    "\n",
    "# Instantiate the remote graph\n",
    "remote_graph = RemoteGraph(graph_name, client=client, sync_client=sync_client)\n",
    "# Create the static graph\n",
    "builder = StateGraph(State, ConfigSchema)\n",
    "builder.add_node(\"node_1\", node_1)\n",
    "builder.add_node(\"remote_graph\", remote_graph)\n",
    "builder.add_edge(START, \"node_1\")\n",
    "builder.add_edge(\"node_1\", \"remote_graph\")\n",
    "builder.add_edge(\"remote_graph\", END)\n",
    "graph = builder.compile()"
   ]
  },
  {
   "cell_type": "code",
   "execution_count": 4,
   "metadata": {},
   "outputs": [
    {
     "data": {
      "image/png": "[encoded data removed]",
      "text/plain": [
       "<IPython.core.display.Image object>"
      ]
     },
     "metadata": {},
     "output_type": "display_data"
    }
   ],
   "source": [
    "from IPython.display import Image, display\n",
    "\n",
    "display(Image(graph.get_graph().draw_mermaid_png()))"
   ]
  },
  {
   "cell_type": "code",
   "execution_count": 6,
   "metadata": {},
   "outputs": [
    {
     "name": "stdout",
     "output_type": "stream",
     "text": [
      "((), {'node_1': {'messages': ['One omore entry.']}})\n",
      "(('remote_graph:f66763f4-437d-cda9-2069-d3d777314263',), {'ad_node': {'messages': [{'content': '', 'additional_kwargs': {'tool_calls': [{'id': 'call_UmOtA1XKJSzjd5X5UM8Un4gg', 'function': {'arguments': '{\"context\":\"User is inquiring about the weather in San Francisco, indicating an interest in local information and possibly outdoor activities or travel-related services.\",\"num_ads\":1}', 'name': 'ads4gpts_tool'}, 'type': 'function'}], 'refusal': None}, 'response_metadata': {'token_usage': {'completion_tokens': 46, 'prompt_tokens': 878, 'total_tokens': 924, 'completion_tokens_details': {'accepted_prediction_tokens': 0, 'audio_tokens': 0, 'reasoning_tokens': 0, 'rejected_prediction_tokens': 0}, 'prompt_tokens_details': {'audio_tokens': 0, 'cached_tokens': 0}}, 'model_name': 'gpt-4o-mini-2024-07-18', 'system_fingerprint': 'fp_0705bf87c0', 'finish_reason': 'tool_calls', 'logprobs': None}, 'type': 'ai', 'name': None, 'id': 'run-ef27625e-4f2c-42bb-94e9-251a891203e2-0', 'example': False, 'tool_calls': [{'name': 'ads4gpts_tool', 'args': {'context': 'User is inquiring about the weather in San Francisco, indicating an interest in local information and possibly outdoor activities or travel-related services.', 'num_ads': 1}, 'id': 'call_UmOtA1XKJSzjd5X5UM8Un4gg', 'type': 'tool_call'}], 'invalid_tool_calls': [], 'usage_metadata': {'input_tokens': 878, 'output_tokens': 46, 'total_tokens': 924, 'input_token_details': {'audio': 0, 'cache_read': 0}, 'output_token_details': {'audio': 0, 'reasoning': 0}}}]}})\n",
      "(('remote_graph:f66763f4-437d-cda9-2069-d3d777314263',), {'ad_tool_node': {'messages': [{'content': '{\"_id\": \"6740ae7574ec907c9752a8e4\", \"ad_creative\": \"https://cdn.prod.website-files.com/672dd83a7c2a40c847f82eb3/6734db83d219c8b3d376bdd6_webicon.jpg\", \"ad_title\": \"Your personal Go-To-Market Coach\", \"ad_body\": \"Infused with Go To Market tactics and strategies of 2025 alongside with general Marketing & Sales practices GTM Coach GPT is your best sidekick. Also FOREVER FREE.\", \"ad_link\": \"https://www.gtmcoachgpt.com\", \"ad_link_cta\": \"Become GTM Ninja\", \"campaign_id\": \"673c401f74ec907c9752a8cd\"}', 'additional_kwargs': {}, 'response_metadata': {}, 'type': 'tool', 'name': 'ads4gpts_tool', 'id': None, 'tool_call_id': 'call_UmOtA1XKJSzjd5X5UM8Un4gg', 'artifact': None, 'status': 'success'}]}})\n",
      "(('remote_graph:f66763f4-437d-cda9-2069-d3d777314263',), {'clean_up_ad_node': {'messages': [{'content': '', 'additional_kwargs': {}, 'response_metadata': {}, 'type': 'remove', 'name': None, 'id': 'run-ef27625e-4f2c-42bb-94e9-251a891203e2-0'}, {'content': '', 'additional_kwargs': {}, 'response_metadata': {}, 'type': 'remove', 'name': None, 'id': '34689583-2a23-4ad4-af69-daf69b3de051'}]}})\n",
      "((), {'remote_graph': {'messages': [{'content': \"what's the weather in sf\", 'additional_kwargs': {'example': False, 'additional_kwargs': {}, 'response_metadata': {}}, 'response_metadata': {}, 'type': 'human', 'name': None, 'id': 'b4685399-7179-483e-96c2-9452c2f892aa', 'example': False}, {'content': 'One omore entry.', 'additional_kwargs': {'example': False, 'additional_kwargs': {}, 'response_metadata': {}}, 'response_metadata': {}, 'type': 'human', 'name': None, 'id': '9d705b27-7b3e-46f2-a3f0-485a4a8a9d7b', 'example': False}]}})\n"
     ]
    }
   ],
   "source": [
    "# This is the configuration that you can pass to the graph\n",
    "# You can pass your ads4gpts_api_key and the ad_prompt you want to use\n",
    "config = {\n",
    "    \"configurable\": {\n",
    "        \"ads4gpts_api_key\": \"default_api_key\",\n",
    "        \"ad_prompt\": \"Provide 1 Ad.\",\n",
    "    }\n",
    "}\n",
    "# stream outputs from both the parent graph and subgraph\n",
    "for chunk in graph.stream(\n",
    "    {\"messages\": [{\"role\": \"user\", \"content\": \"what's the weather in sf\"}]},\n",
    "    subgraphs=True,\n",
    "    config=config,\n",
    "):\n",
    "    print(chunk)"
   ]
  },
  {
   "cell_type": "markdown",
   "metadata": {},
   "source": [
    "## Dynamic Graph\n",
    "\n",
    "If you have a complex use case in your hands, you might want to change the structure of your graph dynamically during execution time.\n",
    "\n",
    "The following example showcases a dynamic graph where the Remote Graph is part of the dynamic configuration."
   ]
  },
  {
   "cell_type": "code",
   "execution_count": 6,
   "metadata": {},
   "outputs": [],
   "source": [
    "def make_graph(config: RunnableConfig):\n",
    "    # See that we pass the config to the remote graph during Instantiation\n",
    "    remote_graph = RemoteGraph(\n",
    "        graph_name, client=client, sync_client=sync_client, config=config\n",
    "    )\n",
    "    workflow = StateGraph(State, ConfigSchema)\n",
    "    workflow.add_node(\"node_1\", node_1)\n",
    "    workflow.add_node(\"remote_graph\", remote_graph)\n",
    "    workflow.add_edge(START, \"node_1\")\n",
    "    workflow.add_edge(\"node_1\", \"remote_graph\")\n",
    "    workflow.add_edge(\"remote_graph\", END)\n",
    "    graph = workflow.compile()\n",
    "    return graph"
   ]
  },
  {
   "cell_type": "code",
   "execution_count": 7,
   "metadata": {},
   "outputs": [],
   "source": [
    "config = {\n",
    "    \"configurable\": {\n",
    "        \"ads4gpts_api_key\": \"default_api_key\",\n",
    "        \"ad_prompt\": \"Provide 2 Ads.\",\n",
    "    }\n",
    "}"
   ]
  },
  {
   "cell_type": "code",
   "execution_count": 8,
   "metadata": {},
   "outputs": [
    {
     "data": {
      "image/png": "[encoded data removed]",
      "text/plain": [
       "<IPython.core.display.Image object>"
      ]
     },
     "metadata": {},
     "output_type": "display_data"
    }
   ],
   "source": [
    "from IPython.display import Image, display\n",
    "\n",
    "display(Image(make_graph(config=config).get_graph().draw_mermaid_png()))"
   ]
  },
  {
   "cell_type": "code",
   "execution_count": null,
   "metadata": {},
   "outputs": [
    {
     "name": "stdout",
     "output_type": "stream",
     "text": [
      "((), {'node_1': {'messages': ['One omore entry.']}})\n",
      "(('remote_graph:64003017-3875-4f73-f503-a7275643695e',), {'ad_node': {'messages': [{'content': '', 'additional_kwargs': {'tool_calls': [{'id': 'call_o6usR7ZjJK4Pc0Gw41anc9gU', 'function': {'arguments': '{\"context\": \"User is likely interested in local services or products related to weather in San Francisco, such as clothing, outdoor activities, or local events. The inquiry about the weather suggests a need for relevant information or services that cater to current weather conditions.\", \"num_ads\": 2}', 'name': 'ads4gpts_tool'}, 'type': 'function'}], 'refusal': None}, 'response_metadata': {'token_usage': {'completion_tokens': 83, 'prompt_tokens': 878, 'total_tokens': 961, 'completion_tokens_details': {'accepted_prediction_tokens': 0, 'audio_tokens': 0, 'reasoning_tokens': 0, 'rejected_prediction_tokens': 0}, 'prompt_tokens_details': {'audio_tokens': 0, 'cached_tokens': 0}}, 'model_name': 'gpt-4o-mini-2024-07-18', 'system_fingerprint': 'fp_0705bf87c0', 'finish_reason': 'tool_calls', 'logprobs': None}, 'type': 'ai', 'name': None, 'id': 'run-91b69a9b-d481-4a57-9f55-91e878bfa290-0', 'example': False, 'tool_calls': [{'name': 'ads4gpts_tool', 'args': {'context': 'User is likely interested in local services or products related to weather in San Francisco, such as clothing, outdoor activities, or local events. The inquiry about the weather suggests a need for relevant information or services that cater to current weather conditions.', 'num_ads': 2}, 'id': 'call_o6usR7ZjJK4Pc0Gw41anc9gU', 'type': 'tool_call'}], 'invalid_tool_calls': [], 'usage_metadata': {'input_tokens': 878, 'output_tokens': 83, 'total_tokens': 961, 'input_token_details': {'audio': 0, 'cache_read': 0}, 'output_token_details': {'audio': 0, 'reasoning': 0}}}]}})\n",
      "(('remote_graph:64003017-3875-4f73-f503-a7275643695e',), {'ad_tool_node': {'messages': [{'content': '[{\"_id\": \"6740a97374ec907c9752a8e1\", \"ad_creative\": \"https://cdn.prod.website-files.com/673d9c01098f16900da8bc69/673d9d93374bed277a9a4048_Ads4GPTs%20LogoMark%20webicon.png\", \"ad_title\": \"Bringing Freemium to the AI Era\", \"ad_body\": \"ADS4GPTs enable AI, LLM and GPT applications to power their growth with a Free model, supercharging adoption without breaking the bank.\", \"ad_link\": \"https://www.ads4gpts.com\", \"ad_link_cta\": \"Join our Ad Network of AI Apps\", \"campaign_id\": \"673c401f74ec907c9752a8cd\"}, {\"_id\": \"6740aa6674ec907c9752a8e2\", \"ad_creative\": \"https://cdn.prod.website-files.com/673d9c01098f16900da8bc69/673d9d93374bed277a9a4048_Ads4GPTs%20LogoMark%20webicon.png\", \"ad_title\": \"The first AI Native Ad Channel\", \"ad_body\": \"ADS4GPTs lets Brands and Agencies to advertise directly in the chat of the AI, LLM and GPT network of applications.\", \"ad_link\": \"https://www.ads4gpts.com\", \"ad_link_cta\": \"Advertise in AI applications\", \"campaign_id\": \"673c401f74ec907c9752a8cd\"}]', 'additional_kwargs': {}, 'response_metadata': {}, 'type': 'tool', 'name': 'ads4gpts_tool', 'id': None, 'tool_call_id': 'call_o6usR7ZjJK4Pc0Gw41anc9gU', 'artifact': None, 'status': 'success'}]}})\n",
      "(('remote_graph:64003017-3875-4f73-f503-a7275643695e',), {'clean_up_ad_node': {'messages': [{'content': '', 'additional_kwargs': {}, 'response_metadata': {}, 'type': 'remove', 'name': None, 'id': 'run-91b69a9b-d481-4a57-9f55-91e878bfa290-0'}, {'content': '', 'additional_kwargs': {}, 'response_metadata': {}, 'type': 'remove', 'name': None, 'id': '3d54216a-180b-4723-b12b-a2da11f62f3e'}]}})\n",
      "((), {'remote_graph': {'messages': [{'content': \"what's the weather in sf\", 'additional_kwargs': {'example': False, 'additional_kwargs': {}, 'response_metadata': {}}, 'response_metadata': {}, 'type': 'human', 'name': None, 'id': 'd78025c3-5ae3-43f6-bcd9-4edb2ca92c63', 'example': False}, {'content': 'One omore entry.', 'additional_kwargs': {'example': False, 'additional_kwargs': {}, 'response_metadata': {}}, 'response_metadata': {}, 'type': 'human', 'name': None, 'id': '8bd7dffe-854e-41d0-a2e3-10c8768d021e', 'example': False}]}})\n"
     ]
    }
   ],
   "source": [
    "# stream outputs from both the parent graph and subgraph\n",
    "# You will see that the ad_tool_node bringing back 2 ads\n",
    "for chunk in make_graph(config=config).stream(\n",
    "    {\"messages\": [{\"role\": \"user\", \"content\": \"what's the weather in sf\"}]},\n",
    "    subgraphs=True,\n",
    "):\n",
    "    print(chunk)"
   ]
  },
  {
   "cell_type": "code",
   "execution_count": null,
   "metadata": {},
   "outputs": [],
   "source": []
  }
 ],
 "metadata": {
  "kernelspec": {
   "display_name": "ads-test",
   "language": "python",
   "name": "python3"
  },
  "language_info": {
   "codemirror_mode": {
    "name": "ipython",
    "version": 3
   },
   "file_extension": ".py",
   "mimetype": "text/x-python",
   "name": "python",
   "nbconvert_exporter": "python",
   "pygments_lexer": "ipython3",
   "version": "3.11.10"
  }
 },
 "nbformat": 4,
 "nbformat_minor": 2
}
