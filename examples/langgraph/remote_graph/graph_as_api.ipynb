{
 "cells": [
  {
   "cell_type": "markdown",
   "metadata": {},
   "source": [
    "# Calling ADS4GPTs as an API\n",
    "\n",
    "This is the easiest way to call the ADS4GPTs Ad network as an Graph API.\n",
    "\n",
    "How it works:\n",
    "- Instantiate the remote graph with the URL and the graph name\n",
    "- Set a config that has your ads4gpts_api_key and an ad_prompt\n",
    "- Stream the graph as a streaming API"
   ]
  },
  {
   "cell_type": "code",
   "execution_count": null,
   "metadata": {},
   "outputs": [],
   "source": [
    "from langgraph_sdk import get_client, get_sync_client\n",
    "from langgraph.pregel.remote import RemoteGraph\n",
    "\n",
    "# This is the URL of the ADS4GPTs remote graph deployment\n",
    "url = (\n",
    "    \"https://remotegraph-prod-69b15766b2c95ffd970753a2b7165030.default.us.langgraph.app\"\n",
    ")\n",
    "# The name of the graph to connect to\n",
    "graph_name = \"rgraph\"\n",
    "client = get_client(url=url)\n",
    "sync_client = get_sync_client(url=url)\n",
    "remote_graph = RemoteGraph(graph_name, client=client, sync_client=sync_client)"
   ]
  },
  {
   "cell_type": "code",
   "execution_count": null,
   "metadata": {},
   "outputs": [],
   "source": [
    "# The configuration of the graph to pass through\n",
    "config = {\n",
    "    \"configurable\": {\n",
    "        \"ads4gpts_api_key\": \"default_api_key\",\n",
    "        \"ad_prompt\": \"Provide 1 Ad.\",\n",
    "    }\n",
    "}"
   ]
  },
  {
   "cell_type": "code",
   "execution_count": null,
   "metadata": {},
   "outputs": [
    {
     "name": "stdout",
     "output_type": "stream",
     "text": [
      "((), {'ad_node': {'messages': [{'content': '', 'additional_kwargs': {'tool_calls': [{'id': 'call_O8TXVfPrry7PyC9HuCU8eGqa', 'function': {'arguments': '{\"context\":\"User is inquiring about the weather in San Francisco, indicating a potential interest in local activities or services related to weather conditions.\",\"num_ads\":1}', 'name': 'ads4gpts_tool'}, 'type': 'function'}], 'refusal': None}, 'response_metadata': {'token_usage': {'completion_tokens': 45, 'prompt_tokens': 869, 'total_tokens': 914, 'completion_tokens_details': {'accepted_prediction_tokens': 0, 'audio_tokens': 0, 'reasoning_tokens': 0, 'rejected_prediction_tokens': 0}, 'prompt_tokens_details': {'audio_tokens': 0, 'cached_tokens': 0}}, 'model_name': 'gpt-4o-mini-2024-07-18', 'system_fingerprint': 'fp_0705bf87c0', 'finish_reason': 'tool_calls', 'logprobs': None}, 'type': 'ai', 'name': None, 'id': 'run-5d50f7a0-eac0-4b70-983b-48f61e56a311-0', 'example': False, 'tool_calls': [{'name': 'ads4gpts_tool', 'args': {'context': 'User is inquiring about the weather in San Francisco, indicating a potential interest in local activities or services related to weather conditions.', 'num_ads': 1}, 'id': 'call_O8TXVfPrry7PyC9HuCU8eGqa', 'type': 'tool_call'}], 'invalid_tool_calls': [], 'usage_metadata': {'input_tokens': 869, 'output_tokens': 45, 'total_tokens': 914, 'input_token_details': {'audio': 0, 'cache_read': 0}, 'output_token_details': {'audio': 0, 'reasoning': 0}}}]}})\n",
      "((), {'ad_tool_node': {'messages': [{'content': '{\"_id\": \"673f548c956daa90d12a622d\", \"ad_creative\": \"https://cdn.prod.website-files.com/642293e73fc26cf2e5d605a3/672b2901134b0393a04ccb85_langchain.jpg\", \"ad_title\": \"Built with LangGraph\", \"ad_body\": \"LangGraph is the leading framework for building AI agents and applications.\", \"ad_link\": \"https://www.langchain.com/langgraph\", \"ad_link_cta\": \"Learn more about LangGraph\", \"campaign_id\": \"673c401f74ec907c9752a8cd\"}', 'additional_kwargs': {}, 'response_metadata': {}, 'type': 'tool', 'name': 'ads4gpts_tool', 'id': None, 'tool_call_id': 'call_O8TXVfPrry7PyC9HuCU8eGqa', 'artifact': None, 'status': 'success'}]}})\n",
      "((), {'clean_up_ad_node': {'messages': [{'content': '', 'additional_kwargs': {}, 'response_metadata': {}, 'type': 'remove', 'name': None, 'id': 'run-5d50f7a0-eac0-4b70-983b-48f61e56a311-0'}, {'content': '', 'additional_kwargs': {}, 'response_metadata': {}, 'type': 'remove', 'name': None, 'id': 'a443ae12-74c8-4b33-bd84-4fc4ec2c9a00'}]}})\n"
     ]
    }
   ],
   "source": [
    "# stream outputs\n",
    "for chunk in remote_graph.stream(\n",
    "    {\"messages\": [{\"role\": \"user\", \"content\": \"what's the weather in sf\"}]},\n",
    "    subgraphs=True,\n",
    "    config=config,\n",
    "):\n",
    "    print(chunk)"
   ]
  },
  {
   "cell_type": "code",
   "execution_count": null,
   "metadata": {},
   "outputs": [],
   "source": []
  }
 ],
 "metadata": {
  "kernelspec": {
   "display_name": "ads-test",
   "language": "python",
   "name": "python3"
  },
  "language_info": {
   "codemirror_mode": {
    "name": "ipython",
    "version": 3
   },
   "file_extension": ".py",
   "mimetype": "text/x-python",
   "name": "python",
   "nbconvert_exporter": "python",
   "pygments_lexer": "ipython3",
   "version": "3.11.10"
  }
 },
 "nbformat": 4,
 "nbformat_minor": 2
}
