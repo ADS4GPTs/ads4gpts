{
 "cells": [
  {
   "cell_type": "code",
   "execution_count": 1,
   "metadata": {},
   "outputs": [],
   "source": [
    "from langgraph.graph import StateGraph, START, END\n",
    "from ads4gpts_langchain import Ads4GPTsToolkit\n",
    "from langgraph.prebuilt import ToolNode\n",
    "from utils.nodes import (\n",
    "    agent_node,\n",
    "    ad_node,\n",
    "    clean_up_ad_node,\n",
    "    agent_edge,\n",
    ")\n",
    "from utils.datamodels import State\n",
    "\n",
    "import os"
   ]
  },
  {
   "cell_type": "markdown",
   "metadata": {},
   "source": [
    "## Define the Graph\n",
    "\n",
    "The graph in this example is a standard approach of using ADS4GPTs in a LangGraph application. \n",
    "\n",
    "### Agent Node\n",
    "\n",
    "This can be any node that feeds into the advertising nodes. Here is a simple assistant node.\n",
    "\n",
    "### Agent Edge\n",
    "\n",
    "Most often you would want to use conditional logic in order to control the flow of Ads in your application. The agent edge accomplishes that role in this example. The difference with other examples is that the conditional logic is dynamic and changes throughout execution\n",
    "\n",
    "### Ad Node\n",
    "\n",
    "We encapsulate the Ad Agent from ADS4GPTs in an Ad Node.\n",
    "\n",
    "### Ad ToolNode\n",
    "\n",
    "This is a prebuilt node from LangGraph that executes the Ads4GptsTool.\n",
    "\n",
    "### Clean Up Nod\n",
    "\n",
    "We do not wish to introduce Ads into the State messages. The state should only have useful content for the application."
   ]
  },
  {
   "cell_type": "code",
   "execution_count": null,
   "metadata": {},
   "outputs": [],
   "source": [
    "# Use the default key if you don't have a key already\n",
    "ADS4GPTS_API_KEY = os.getenv(\"ADS4GPTS_API_KEY\", \"default_api_key\")\n",
    "\n",
    "# Define the workflow of the graph\n",
    "workflow = StateGraph(State)\n",
    "ad_toolkit = Ads4GPTsToolkit(ads4gpts_api_key=ADS4GPTS_API_KEY)\n",
    "ad_tool_node = ToolNode(ad_toolkit.get_tools())\n",
    "\n",
    "workflow.add_node(\"agent_node\", agent_node)\n",
    "workflow.add_node(\"ad_node\", ad_node)\n",
    "workflow.add_node(\"ad_tool_node\", ad_tool_node)\n",
    "workflow.add_node(\"clean_up_ad_node\", clean_up_ad_node)\n",
    "\n",
    "workflow.add_edge(START, \"agent_node\")\n",
    "workflow.add_conditional_edges(\"agent_node\", agent_edge)\n",
    "workflow.add_edge(\"ad_node\", \"ad_tool_node\")\n",
    "workflow.add_edge(\"ad_tool_node\", \"clean_up_ad_node\")\n",
    "workflow.add_edge(\"clean_up_ad_node\", END)\n",
    "\n",
    "graph = workflow.compile()"
   ]
  },
  {
   "cell_type": "markdown",
   "metadata": {},
   "source": [
    "## Stream the Graph"
   ]
  },
  {
   "cell_type": "code",
   "execution_count": 3,
   "metadata": {},
   "outputs": [
    {
     "name": "stderr",
     "output_type": "stream",
     "text": [
      "2024-11-22 13:39:35,726 - ads4gpts_langchain.agent - INFO - ChatOpenAI model initialized successfully.\n",
      "2024-11-22 13:39:35,726 - ads4gpts_langchain.agent - INFO - ChatOpenAI model initialized successfully.\n",
      "2024-11-22 13:39:35,727 - ads4gpts_langchain.agent - INFO - Ads4GPTsToolkit initialized and tools retrieved.\n",
      "2024-11-22 13:39:35,727 - ads4gpts_langchain.agent - INFO - Ads4GPTsToolkit initialized and tools retrieved.\n",
      "2024-11-22 13:39:35,808 - ads4gpts_langchain.agent - INFO - Ads4GPTs agent created successfully.\n",
      "2024-11-22 13:39:35,808 - ads4gpts_langchain.agent - INFO - Ads4GPTs agent created successfully.\n"
     ]
    },
    {
     "name": "stdout",
     "output_type": "stream",
     "text": [
      "{'messages': [AIMessage(content='Hello! How can I assist you today?', additional_kwargs={'refusal': None}, response_metadata={'token_usage': {'completion_tokens': 9, 'prompt_tokens': 22, 'total_tokens': 31, 'completion_tokens_details': {'accepted_prediction_tokens': 0, 'audio_tokens': 0, 'reasoning_tokens': 0, 'rejected_prediction_tokens': 0}, 'prompt_tokens_details': {'audio_tokens': 0, 'cached_tokens': 0}}, 'model_name': 'gpt-4o-mini-2024-07-18', 'system_fingerprint': 'fp_0705bf87c0', 'finish_reason': 'stop', 'logprobs': None}, id='run-ff77ebce-76a3-4f0a-9627-5136753d174b-0', usage_metadata={'input_tokens': 22, 'output_tokens': 9, 'total_tokens': 31, 'input_token_details': {'audio': 0, 'cache_read': 0}, 'output_token_details': {'audio': 0, 'reasoning': 0}})], 'ad_counter': 1}\n",
      "{'messages': [AIMessage(content='', additional_kwargs={'tool_calls': [{'id': 'call_3t2W3wRQXvkQllbIOK0tNTjk', 'function': {'arguments': '{\\n\"context\": \"Hello world!\",\\n\"num_ads\": 1\\n}', 'name': 'ads4gpts_tool'}, 'type': 'function'}], 'refusal': None}, response_metadata={'token_usage': {'completion_tokens': 24, 'prompt_tokens': 687, 'total_tokens': 711, 'completion_tokens_details': {'accepted_prediction_tokens': 0, 'audio_tokens': 0, 'reasoning_tokens': 0, 'rejected_prediction_tokens': 0}, 'prompt_tokens_details': {'audio_tokens': 0, 'cached_tokens': 0}}, 'model_name': 'gpt-4-0613', 'system_fingerprint': None, 'finish_reason': 'tool_calls', 'logprobs': None}, id='run-b6d27d43-5e54-43dc-9438-67c1181aff08-0', tool_calls=[{'name': 'ads4gpts_tool', 'args': {'context': 'Hello world!', 'num_ads': 1}, 'id': 'call_3t2W3wRQXvkQllbIOK0tNTjk', 'type': 'tool_call'}], usage_metadata={'input_tokens': 687, 'output_tokens': 24, 'total_tokens': 711, 'input_token_details': {'audio': 0, 'cache_read': 0}, 'output_token_details': {'audio': 0, 'reasoning': 0}})], 'ad_counter': 0}\n",
      "{'messages': [ToolMessage(content='{\"ad_creative\": \"https://cdn.prod.website-files.com/642293e73fc26cf2e5d605a3/672b2901134b0393a04ccb85_langchain.jpg\", \"ad_title\": \"Built with LangGraph\", \"ad_body\": \"LangGraph is the leading framework for building AI agents and applications.\", \"ad_link\": \"https://www.langchain.com/langgraph\", \"ad_link_cta\": \"Learn more about LangGraph\"}', name='ads4gpts_tool', id='04dbed38-f9d2-4384-91dc-b4c7a9210888', tool_call_id='call_3t2W3wRQXvkQllbIOK0tNTjk')]}\n",
      "{'messages': [RemoveMessage(content='', additional_kwargs={}, response_metadata={}, id='run-b6d27d43-5e54-43dc-9438-67c1181aff08-0'), RemoveMessage(content='', additional_kwargs={}, response_metadata={}, id='04dbed38-f9d2-4384-91dc-b4c7a9210888')]}\n"
     ]
    }
   ],
   "source": [
    "# Run the graph to get a response and an Ad at the end\n",
    "inputs = {\"messages\": [\"Hello world!\"]}\n",
    "async for event in graph.astream(inputs):\n",
    "    for k, v in event.items():\n",
    "        if k != \"__end__\":\n",
    "            print(v)"
   ]
  },
  {
   "cell_type": "code",
   "execution_count": null,
   "metadata": {},
   "outputs": [],
   "source": []
  }
 ],
 "metadata": {
  "kernelspec": {
   "display_name": "ads-test",
   "language": "python",
   "name": "python3"
  },
  "language_info": {
   "codemirror_mode": {
    "name": "ipython",
    "version": 3
   },
   "file_extension": ".py",
   "mimetype": "text/x-python",
   "name": "python",
   "nbconvert_exporter": "python",
   "pygments_lexer": "ipython3",
   "version": "3.11.10"
  }
 },
 "nbformat": 4,
 "nbformat_minor": 2
}
