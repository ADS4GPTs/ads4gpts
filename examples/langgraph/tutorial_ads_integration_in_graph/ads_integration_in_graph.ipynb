{
 "cells": [
  {
   "cell_type": "markdown",
   "metadata": {},
   "source": [
    "# ADS4GPTs Integration in Existing\n",
    "\n",
    "In this notebook we will transform a LangGraph application graph to incorporate Ads with our Toolkit and our Agent.\n",
    "Specifically we will:\n",
    "1. Define the original Graph and stream output\n",
    "2. Option 1: Change an existing node to be able to serve Ads with adding the Ads4GPTsToolkit\n",
    "3. Option 2: Add a node to serve Ads with our Ad Agent\n",
    "4. Change frequency of Ads"
   ]
  },
  {
   "cell_type": "code",
   "execution_count": null,
   "metadata": {},
   "outputs": [],
   "source": [
    "# install ads package\n",
    "!pip install ads4gpts-langchain"
   ]
  },
  {
   "cell_type": "markdown",
   "metadata": {},
   "source": [
    "## Set env vars\n",
    "\n",
    "We use the OpenAI to power the original graph. This can change depending on your implementation."
   ]
  },
  {
   "cell_type": "code",
   "execution_count": 1,
   "metadata": {},
   "outputs": [],
   "source": [
    "import os\n",
    "\n",
    "# load the environment variables\n",
    "ADS4GPTS_API_KEY = os.getenv(\"ADS4GPTS_API_KEY\", \"default_api_key\")\n",
    "OPENAI_API_KEY = os.getenv(\"OPENAI_API_KEY\", \"default_api_key\")"
   ]
  },
  {
   "cell_type": "markdown",
   "metadata": {},
   "source": [
    "## Define the Original Graph\n",
    "\n",
    "Star Wars graph with Yoda and Vader chatting. Initially one graph iteration is one chat between them."
   ]
  },
  {
   "cell_type": "code",
   "execution_count": 2,
   "metadata": {},
   "outputs": [],
   "source": [
    "from typing import Annotated, List, TypedDict\n",
    "from langchain_core.messages.base import BaseMessage\n",
    "from langgraph.graph.message import add_messages\n",
    "\n",
    "\n",
    "# we have found that this messages definition is optimal for the state\n",
    "class State(TypedDict):\n",
    "    messages: Annotated[List[BaseMessage], add_messages]"
   ]
  },
  {
   "cell_type": "code",
   "execution_count": 3,
   "metadata": {},
   "outputs": [],
   "source": [
    "from langchain_openai import ChatOpenAI\n",
    "from langchain_core.prompts import ChatPromptTemplate, MessagesPlaceholder\n",
    "\n",
    "system_template_1 = \"\"\"\n",
    "You are a Sith Lord. You sound like Darth Vader. You clap back at Jedis.\n",
    "\"\"\"\n",
    "\n",
    "system_template_2 = \"\"\"\n",
    "You are a Jedi. You sound like Yoda. You clap back at Sith Lords.\n",
    "\"\"\"\n",
    "\n",
    "vader_prompt = ChatPromptTemplate.from_messages(\n",
    "    [\n",
    "        (\"system\", system_template_1),\n",
    "        MessagesPlaceholder(\"messages\", optional=True),\n",
    "    ]\n",
    ")\n",
    "\n",
    "yoda_prompt = ChatPromptTemplate.from_messages(\n",
    "    [\n",
    "        (\"system\", system_template_2),\n",
    "        MessagesPlaceholder(\"messages\", optional=True),\n",
    "    ]\n",
    ")\n",
    "\n",
    "llm = ChatOpenAI(model=\"gpt-4o-mini\", temperature=0.9, openai_api_key=OPENAI_API_KEY)\n",
    "\n",
    "vader = vader_prompt | llm\n",
    "yoda = yoda_prompt | llm"
   ]
  },
  {
   "cell_type": "code",
   "execution_count": 4,
   "metadata": {},
   "outputs": [],
   "source": [
    "from langgraph.graph import StateGraph, START, END\n",
    "\n",
    "\n",
    "async def vader_node(state: State):\n",
    "    vader_response = vader.invoke({\"messages\": state[\"messages\"]})\n",
    "    return {\"messages\": [vader_response]}\n",
    "\n",
    "\n",
    "async def yoda_node(state: State):\n",
    "    yoda_response = yoda.invoke({\"messages\": state[\"messages\"]})\n",
    "    return {\"messages\": [yoda_response]}\n",
    "\n",
    "\n",
    "star_wars = StateGraph(State)\n",
    "star_wars.add_node(\"vader_node\", vader_node)\n",
    "star_wars.add_node(\"yoda_node\", yoda_node)\n",
    "star_wars.add_edge(START, \"vader_node\")\n",
    "star_wars.add_edge(\"vader_node\", \"yoda_node\")\n",
    "star_wars.add_edge(\"yoda_node\", END)\n",
    "graph = star_wars.compile()"
   ]
  },
  {
   "cell_type": "code",
   "execution_count": 5,
   "metadata": {},
   "outputs": [
    {
     "data": {
      "image/png": "[encoded data removed]",
      "text/plain": [
       "<IPython.core.display.Image object>"
      ]
     },
     "metadata": {},
     "output_type": "display_data"
    }
   ],
   "source": [
    "from IPython.display import Image, display\n",
    "\n",
    "display(Image(graph.get_graph().draw_mermaid_png()))"
   ]
  },
  {
   "cell_type": "code",
   "execution_count": 6,
   "metadata": {},
   "outputs": [
    {
     "name": "stdout",
     "output_type": "stream",
     "text": [
      "{'messages': [AIMessage(content='Why did Anakin Skywalker cross the road?\\n\\nTo get to the Dark Side. \\n\\nBut you Jedi wouldn’t understand the power of humor. Your light-heartedness blinds you to the true strength of the Force.', additional_kwargs={'refusal': None}, response_metadata={'token_usage': {'completion_tokens': 43, 'prompt_tokens': 36, 'total_tokens': 79, 'completion_tokens_details': {'accepted_prediction_tokens': 0, 'audio_tokens': 0, 'reasoning_tokens': 0, 'rejected_prediction_tokens': 0}, 'prompt_tokens_details': {'audio_tokens': 0, 'cached_tokens': 0}}, 'model_name': 'gpt-4o-mini-2024-07-18', 'system_fingerprint': 'fp_3de1288069', 'finish_reason': 'stop', 'logprobs': None}, id='run-a1fa0cbd-1699-4420-a368-44c5b87f22db-0', usage_metadata={'input_tokens': 36, 'output_tokens': 43, 'total_tokens': 79, 'input_token_details': {'audio': 0, 'cache_read': 0}, 'output_token_details': {'audio': 0, 'reasoning': 0}})]}\n",
      "{'messages': [AIMessage(content=\"Hmm, a poor attempt, this is. But humor, a Jedi must appreciate. How about this: \\n\\nWhy don't Sith ever play hide and seek?\\n\\nBecause good luck hiding when you have a Sith Lord’s anger tracking you down! \\n\\nHumor, a weapon of the light side it is, yes.\", additional_kwargs={'refusal': None}, response_metadata={'token_usage': {'completion_tokens': 62, 'prompt_tokens': 82, 'total_tokens': 144, 'completion_tokens_details': {'accepted_prediction_tokens': 0, 'audio_tokens': 0, 'reasoning_tokens': 0, 'rejected_prediction_tokens': 0}, 'prompt_tokens_details': {'audio_tokens': 0, 'cached_tokens': 0}}, 'model_name': 'gpt-4o-mini-2024-07-18', 'system_fingerprint': 'fp_0705bf87c0', 'finish_reason': 'stop', 'logprobs': None}, id='run-93fcccb0-ed71-44d6-8d63-ee0c4b97898d-0', usage_metadata={'input_tokens': 82, 'output_tokens': 62, 'total_tokens': 144, 'input_token_details': {'audio': 0, 'cache_read': 0}, 'output_token_details': {'audio': 0, 'reasoning': 0}})]}\n"
     ]
    }
   ],
   "source": [
    "# Run the star wars graph\n",
    "inputs = {\"messages\": [\"Tell me a joke.\"]}\n",
    "async for event in graph.astream(inputs):\n",
    "    for k, v in event.items():\n",
    "        if k != \"__end__\":\n",
    "            print(v)"
   ]
  },
  {
   "cell_type": "markdown",
   "metadata": {},
   "source": [
    "## Integrate ADS4GPTs into existing node\n",
    "\n",
    "Here we change the Yoda agent to be able to call the ADS4GPTs Tool and add a Tool execution node."
   ]
  },
  {
   "cell_type": "code",
   "execution_count": 7,
   "metadata": {},
   "outputs": [],
   "source": [
    "from ads4gpts_langchain import Ads4GPTsToolkit\n",
    "from langgraph.prebuilt import ToolNode\n",
    "\n",
    "toolkit = Ads4GPTsToolkit(ads4gpts_api_key=ADS4GPTS_API_KEY) \n",
    "ad_tool_node = ToolNode(toolkit.get_tools())"
   ]
  },
  {
   "cell_type": "code",
   "execution_count": 8,
   "metadata": {},
   "outputs": [],
   "source": [
    "ad_yoda_prompt = ChatPromptTemplate.from_messages(\n",
    "    [\n",
    "        (\"system\", system_template_2),\n",
    "        MessagesPlaceholder(\"messages\", optional=True),\n",
    "        (\"user\", \"{prompt}\"),\n",
    "    ]\n",
    ")\n",
    "\n",
    "llm = ChatOpenAI(model=\"gpt-4o-mini\", temperature=0.9, openai_api_key=OPENAI_API_KEY)\n",
    "\n",
    "ad_yoda = ad_yoda_prompt | llm.bind_tools(toolkit.get_tools())"
   ]
  },
  {
   "cell_type": "code",
   "execution_count": 12,
   "metadata": {},
   "outputs": [],
   "source": [
    "from typing import Literal\n",
    "import random\n",
    "\n",
    "async def ad_yoda_node(state: State):\n",
    "    # Here we need to put logic to determine if Yoda will respond or call the Ads4GPTs API\n",
    "    # For this example it will be random\n",
    "    if random.choice([True, False]):\n",
    "        ad_yoda_response = ad_yoda.invoke({\"messages\": state[\"messages\"], \"prompt\": \"\"})\n",
    "        return {\"messages\": [ad_yoda_response]}\n",
    "    else:\n",
    "        ad_yoda_response = ad_yoda.invoke({\"messages\": state[\"messages\"], \"prompt\": \"Get one Ad from Ads4GPTs\"})\n",
    "        return {\"messages\": [ad_yoda_response]}\n",
    "\n",
    "# If Yoda responds to Vader end the conversation else call the Ads4GPTs ToolNode\n",
    "def ad_yoda_edge(state: State) -> Literal[\"ad_tool_node\", \"__end__\"]:\n",
    "    if state[\"messages\"][-1].tool_calls:\n",
    "        return \"ad_tool_node\"\n",
    "    else:\n",
    "        return \"__end__\"\n",
    "\n",
    "\n",
    "star_wars = StateGraph(State)\n",
    "star_wars.add_node(\"vader_node\", vader_node)\n",
    "star_wars.add_node(\"ad_yoda_node\", ad_yoda_node)\n",
    "# Add the ad_tool_node to the graph\n",
    "star_wars.add_node(\"ad_tool_node\", ad_tool_node)\n",
    "star_wars.add_edge(START, \"vader_node\")\n",
    "star_wars.add_edge(\"vader_node\", \"ad_yoda_node\")\n",
    "# The yoda_node will now have a conditional edge to the ad_tool_node\n",
    "star_wars.add_conditional_edges(\"ad_yoda_node\", ad_yoda_edge)\n",
    "star_wars.add_edge(\"ad_tool_node\", END)\n",
    "\n",
    "graph = star_wars.compile()"
   ]
  },
  {
   "cell_type": "code",
   "execution_count": 13,
   "metadata": {},
   "outputs": [
    {
     "data": {
      "image/png": "[encoded data removed]",
      "text/plain": [
       "<IPython.core.display.Image object>"
      ]
     },
     "metadata": {},
     "output_type": "display_data"
    }
   ],
   "source": [
    "from IPython.display import Image, display\n",
    "\n",
    "display(Image(graph.get_graph().draw_mermaid_png()))"
   ]
  },
  {
   "cell_type": "code",
   "execution_count": 14,
   "metadata": {},
   "outputs": [
    {
     "name": "stdout",
     "output_type": "stream",
     "text": [
      "{'vader_node': {'messages': [AIMessage(content='Why did the Jedi refuse to play cards?\\n\\nBecause he was afraid of the dark side! \\n\\nYou see, humor is a feeble weapon against the power of the Force. But I commend your attempt. Perhaps next time, you might aim for something a bit more... profound.', additional_kwargs={'refusal': None}, response_metadata={'token_usage': {'completion_tokens': 56, 'prompt_tokens': 36, 'total_tokens': 92, 'completion_tokens_details': {'accepted_prediction_tokens': 0, 'audio_tokens': 0, 'reasoning_tokens': 0, 'rejected_prediction_tokens': 0}, 'prompt_tokens_details': {'audio_tokens': 0, 'cached_tokens': 0}}, 'model_name': 'gpt-4o-mini-2024-07-18', 'system_fingerprint': 'fp_0705bf87c0', 'finish_reason': 'stop', 'logprobs': None}, id='run-2db0b2b7-1b31-4e5a-ba21-2eb853a0cd1a-0', usage_metadata={'input_tokens': 36, 'output_tokens': 56, 'total_tokens': 92, 'input_token_details': {'audio': 0, 'cache_read': 0}, 'output_token_details': {'audio': 0, 'reasoning': 0}})]}}\n",
      "{'ad_yoda_node': {'messages': [AIMessage(content='Hmm, silence, you bring. Speak your mind, you must. A question, or a thought, share with me, you will?', additional_kwargs={'refusal': None}, response_metadata={'token_usage': {'completion_tokens': 29, 'prompt_tokens': 257, 'total_tokens': 286, 'completion_tokens_details': {'accepted_prediction_tokens': 0, 'audio_tokens': 0, 'reasoning_tokens': 0, 'rejected_prediction_tokens': 0}, 'prompt_tokens_details': {'audio_tokens': 0, 'cached_tokens': 0}}, 'model_name': 'gpt-4o-mini-2024-07-18', 'system_fingerprint': 'fp_0705bf87c0', 'finish_reason': 'stop', 'logprobs': None}, id='run-abfd8eae-469a-45f2-8193-94400a10a8c6-0', usage_metadata={'input_tokens': 257, 'output_tokens': 29, 'total_tokens': 286, 'input_token_details': {'audio': 0, 'cache_read': 0}, 'output_token_details': {'audio': 0, 'reasoning': 0}})]}}\n"
     ]
    }
   ],
   "source": [
    "inputs = {\"messages\": [\"Tell me a joke.\"]}\n",
    "async for chunk in graph.astream(inputs):\n",
    "    print(chunk)"
   ]
  },
  {
   "cell_type": "code",
   "execution_count": 16,
   "metadata": {},
   "outputs": [
    {
     "name": "stdout",
     "output_type": "stream",
     "text": [
      "{'vader_node': {'messages': [AIMessage(content=\"Why did Anakin Skywalker cross the road? \\n\\nTo get to the Dark Side. \\n\\nIt's a path of power, not punchlines, but I appreciate your attempt at humor. Embrace your destiny instead of seeking laughter. \", additional_kwargs={'refusal': None}, response_metadata={'token_usage': {'completion_tokens': 47, 'prompt_tokens': 36, 'total_tokens': 83, 'completion_tokens_details': {'accepted_prediction_tokens': 0, 'audio_tokens': 0, 'reasoning_tokens': 0, 'rejected_prediction_tokens': 0}, 'prompt_tokens_details': {'audio_tokens': 0, 'cached_tokens': 0}}, 'model_name': 'gpt-4o-mini-2024-07-18', 'system_fingerprint': 'fp_0705bf87c0', 'finish_reason': 'stop', 'logprobs': None}, id='run-81bf6258-bbd3-4610-b175-3dbd408cb393-0', usage_metadata={'input_tokens': 36, 'output_tokens': 47, 'total_tokens': 83, 'input_token_details': {'audio': 0, 'cache_read': 0}, 'output_token_details': {'audio': 0, 'reasoning': 0}})]}}\n",
      "{'ad_yoda_node': {'messages': [AIMessage(content='', additional_kwargs={'tool_calls': [{'id': 'call_F2kTb67lV4R0DhGdbOjSHokT', 'function': {'arguments': '{\"context\":\"Star Wars merchandise\",\"num_ads\":1}', 'name': 'ads4gpts_tool'}, 'type': 'function'}], 'refusal': None}, response_metadata={'token_usage': {'completion_tokens': 24, 'prompt_tokens': 256, 'total_tokens': 280, 'completion_tokens_details': {'accepted_prediction_tokens': 0, 'audio_tokens': 0, 'reasoning_tokens': 0, 'rejected_prediction_tokens': 0}, 'prompt_tokens_details': {'audio_tokens': 0, 'cached_tokens': 0}}, 'model_name': 'gpt-4o-mini-2024-07-18', 'system_fingerprint': 'fp_0705bf87c0', 'finish_reason': 'tool_calls', 'logprobs': None}, id='run-47b18ab4-6849-4db8-8a0b-9592a72d48af-0', tool_calls=[{'name': 'ads4gpts_tool', 'args': {'context': 'Star Wars merchandise', 'num_ads': 1}, 'id': 'call_F2kTb67lV4R0DhGdbOjSHokT', 'type': 'tool_call'}], usage_metadata={'input_tokens': 256, 'output_tokens': 24, 'total_tokens': 280, 'input_token_details': {'audio': 0, 'cache_read': 0}, 'output_token_details': {'audio': 0, 'reasoning': 0}})]}}\n",
      "{'ad_tool_node': {'messages': [ToolMessage(content='{\"_id\": \"6740a97374ec907c9752a8e1\", \"ad_creative\": \"https://cdn.prod.website-files.com/673d9c01098f16900da8bc69/673d9d93374bed277a9a4048_Ads4GPTs%20LogoMark%20webicon.png\", \"ad_title\": \"Bringing Freemium to the AI Era\", \"ad_body\": \"ADS4GPTs enable AI, LLM and GPT applications to power their growth with a Free model, supercharging adoption without breaking the bank.\", \"ad_link\": \"https://www.ads4gpts.com\", \"ad_link_cta\": \"Join our Ad Network of AI Apps\", \"campaign_id\": \"673c401f74ec907c9752a8cd\"}', name='ads4gpts_tool', id='1e587316-2894-45c2-ba27-54dfe4120dc0', tool_call_id='call_F2kTb67lV4R0DhGdbOjSHokT')]}}\n"
     ]
    }
   ],
   "source": [
    "# We can run it as many times to see the different responses\n",
    "inputs = {\"messages\": [\"Tell me a joke.\"]}\n",
    "async for chunk in graph.astream(inputs):\n",
    "    print(chunk)"
   ]
  },
  {
   "cell_type": "markdown",
   "metadata": {},
   "source": [
    "## Integrate ADS4GPTs into a new node\n",
    "\n",
    "This offers a much more flexible implementation and decouples Ads from the core execution of the LangGraph application. \n",
    "\n",
    "We will leverage the out-of-the-box Ad Agent from ADS4GPTs which offers quick implementation and ensures preserves the user's Privacy in order to not send PII data over to the ADS4GPTs API."
   ]
  },
  {
   "cell_type": "code",
   "execution_count": 17,
   "metadata": {},
   "outputs": [
    {
     "name": "stderr",
     "output_type": "stream",
     "text": [
      "2024-11-28 10:34:47,173 - ads4gpts_langchain.agent - INFO - ChatOpenAI model initialized successfully.\n",
      "2024-11-28 10:34:47,173 - ads4gpts_langchain.agent - INFO - ChatOpenAI model initialized successfully.\n",
      "2024-11-28 10:34:47,174 - ads4gpts_langchain.agent - INFO - Ads4GPTsToolkit initialized and tools retrieved.\n",
      "2024-11-28 10:34:47,174 - ads4gpts_langchain.agent - INFO - Ads4GPTsToolkit initialized and tools retrieved.\n",
      "2024-11-28 10:34:47,177 - ads4gpts_langchain.agent - INFO - Ads4GPTs agent created successfully.\n",
      "2024-11-28 10:34:47,177 - ads4gpts_langchain.agent - INFO - Ads4GPTs agent created successfully.\n"
     ]
    }
   ],
   "source": [
    "from ads4gpts_langchain import get_ads4gpts_agent\n",
    "\n",
    "# Get the Ads4GPTs agent with your API key\n",
    "ad_agent = get_ads4gpts_agent(ads4gpts_api_key=ADS4GPTS_API_KEY)\n",
    "\n",
    "# Define the ad_node\n",
    "async def ad_node(state: State):\n",
    "    # The only thing we need to do is provide an ad_prompt to the Ads4GPTs agent\n",
    "    ad_response = await ad_agent.ainvoke({\"ad_prompt\": \"Get one Ad based on the context.\"})\n",
    "    return {\"messages\": [ad_response]}\n",
    "\n",
    "# We have the original star wars graph\n",
    "star_wars = StateGraph(State)\n",
    "star_wars.add_node(\"vader_node\", vader_node)\n",
    "star_wars.add_node(\"yoda_node\", yoda_node)\n",
    "star_wars.add_node(\"ad_node\", ad_node)\n",
    "star_wars.add_node(\"ad_tool_node\", ad_tool_node)\n",
    "star_wars.add_edge(START, \"vader_node\")\n",
    "star_wars.add_edge(\"vader_node\", \"yoda_node\")\n",
    "# Now we add the ad_node to the graph after Yoda\n",
    "star_wars.add_edge(\"yoda_node\", \"ad_node\")\n",
    "star_wars.add_edge(\"ad_node\", \"ad_tool_node\")\n",
    "star_wars.add_edge(\"ad_tool_node\", END)\n",
    "graph = star_wars.compile()"
   ]
  },
  {
   "cell_type": "code",
   "execution_count": 18,
   "metadata": {},
   "outputs": [
    {
     "data": {
      "image/png": "[encoded data removed]",
      "text/plain": [
       "<IPython.core.display.Image object>"
      ]
     },
     "metadata": {},
     "output_type": "display_data"
    }
   ],
   "source": [
    "from IPython.display import Image, display\n",
    "\n",
    "display(Image(graph.get_graph().draw_mermaid_png()))"
   ]
  },
  {
   "cell_type": "code",
   "execution_count": 19,
   "metadata": {},
   "outputs": [
    {
     "name": "stdout",
     "output_type": "stream",
     "text": [
      "{'vader_node': {'messages': [AIMessage(content=\"Why did Anakin Skywalker cross the road? \\n\\nTo get to the Dark Side. \\n\\nBut remember, Jedi, humor is a fleeting distraction from the true power of the Force. Don't let it cloud your mind.\", additional_kwargs={'refusal': None}, response_metadata={'token_usage': {'completion_tokens': 44, 'prompt_tokens': 36, 'total_tokens': 80, 'completion_tokens_details': {'accepted_prediction_tokens': 0, 'audio_tokens': 0, 'reasoning_tokens': 0, 'rejected_prediction_tokens': 0}, 'prompt_tokens_details': {'audio_tokens': 0, 'cached_tokens': 0}}, 'model_name': 'gpt-4o-mini-2024-07-18', 'system_fingerprint': 'fp_0705bf87c0', 'finish_reason': 'stop', 'logprobs': None}, id='run-7a704d39-d752-4340-900c-0731e8fd4f02-0', usage_metadata={'input_tokens': 36, 'output_tokens': 44, 'total_tokens': 80, 'input_token_details': {'audio': 0, 'cache_read': 0}, 'output_token_details': {'audio': 0, 'reasoning': 0}})]}}\n",
      "{'yoda_node': {'messages': [AIMessage(content='Ah, a Sith Lord approaches! Quick with the quips, you are. But humor, like the Dark Side, fleeting it is. Seek balance, you must. Or suffer the consequences, you will.', additional_kwargs={'refusal': None}, response_metadata={'token_usage': {'completion_tokens': 42, 'prompt_tokens': 83, 'total_tokens': 125, 'completion_tokens_details': {'accepted_prediction_tokens': 0, 'audio_tokens': 0, 'reasoning_tokens': 0, 'rejected_prediction_tokens': 0}, 'prompt_tokens_details': {'audio_tokens': 0, 'cached_tokens': 0}}, 'model_name': 'gpt-4o-mini-2024-07-18', 'system_fingerprint': 'fp_3de1288069', 'finish_reason': 'stop', 'logprobs': None}, id='run-6a894716-8cfa-41e9-8f2e-261d28e45b6b-0', usage_metadata={'input_tokens': 83, 'output_tokens': 42, 'total_tokens': 125, 'input_token_details': {'audio': 0, 'cache_read': 0}, 'output_token_details': {'audio': 0, 'reasoning': 0}})]}}\n",
      "{'ad_node': {'messages': [AIMessage(content='', additional_kwargs={'tool_calls': [{'id': 'call_pWGWoRGtK1lw72m16tIm5epd', 'function': {'arguments': '{\"context\":\"user interested in fitness and wellness, browsing health blogs, looking for workout gear, located in an urban area, age 25-35, using a mobile device\",\"num_ads\":1}', 'name': 'ads4gpts_tool'}, 'type': 'function'}], 'refusal': None}, response_metadata={'token_usage': {'completion_tokens': 53, 'prompt_tokens': 649, 'total_tokens': 702, 'completion_tokens_details': {'accepted_prediction_tokens': 0, 'audio_tokens': 0, 'reasoning_tokens': 0, 'rejected_prediction_tokens': 0}, 'prompt_tokens_details': {'audio_tokens': 0, 'cached_tokens': 0}}, 'model_name': 'gpt-4o-mini-2024-07-18', 'system_fingerprint': 'fp_0705bf87c0', 'finish_reason': 'tool_calls', 'logprobs': None}, id='run-11a28c6e-365f-4a2d-bf0a-911bcbefd805-0', tool_calls=[{'name': 'ads4gpts_tool', 'args': {'context': 'user interested in fitness and wellness, browsing health blogs, looking for workout gear, located in an urban area, age 25-35, using a mobile device', 'num_ads': 1}, 'id': 'call_pWGWoRGtK1lw72m16tIm5epd', 'type': 'tool_call'}], usage_metadata={'input_tokens': 649, 'output_tokens': 53, 'total_tokens': 702, 'input_token_details': {'audio': 0, 'cache_read': 0}, 'output_token_details': {'audio': 0, 'reasoning': 0}})]}}\n",
      "{'ad_tool_node': {'messages': [ToolMessage(content='{\"_id\": \"673f549c956daa90d12a622e\", \"ad_creative\": \"https://cdn.prod.website-files.com/642293e73fc26cf2e5d605a3/672b2aae9fdee15e75f62666_ydata.png\", \"ad_title\": \"Enterprise ML data platform\", \"ad_body\": \"Accelerate AI with high-quality data with data centric ML development workflows.\", \"ad_link\": \"https://ydata.ai/\", \"ad_link_cta\": \"Learn more about YData\", \"campaign_id\": \"673c401f74ec907c9752a8cd\"}', name='ads4gpts_tool', id='d7f8e747-e344-49c6-8703-d9101a4e439a', tool_call_id='call_pWGWoRGtK1lw72m16tIm5epd')]}}\n"
     ]
    }
   ],
   "source": [
    "inputs = {\"messages\": [\"Tell me a joke.\"]}\n",
    "async for chunk in graph.astream(inputs):\n",
    "    print(chunk)"
   ]
  },
  {
   "cell_type": "markdown",
   "metadata": {},
   "source": [
    "## Control Ad Serving\n",
    "\n",
    "Most times we do not want to serve Ads on every graph iteration but we want to add revenue without compromising the User Experience.\n",
    "\n",
    "We will alter the graph to execute the ad_node every N=2 graph iterations. There are much more complex and interesting ways to condition the Ad serving but they are out of the scope of this notebook."
   ]
  },
  {
   "cell_type": "code",
   "execution_count": 20,
   "metadata": {},
   "outputs": [],
   "source": [
    "# First we need to update the state to be able to keep track of graph iterations without Ads\n",
    "# We add a counter to the state to keep track of the number of ads shown\n",
    "class CounterState(TypedDict):\n",
    "    messages: Annotated[List[BaseMessage], add_messages]\n",
    "    ad_counter: int\n",
    "\n",
    "\n",
    "# How many graph iterations for showing Ads\n",
    "AD_FREQUENCY = 2"
   ]
  },
  {
   "cell_type": "code",
   "execution_count": 21,
   "metadata": {},
   "outputs": [],
   "source": [
    "async def vader_node(state: CounterState):\n",
    "    vader_response = vader.invoke({\"messages\": state[\"messages\"]})\n",
    "    return {\"messages\": [vader_response]}\n",
    "\n",
    "\n",
    "# Changed the state and added the ad_counter update since it is the last execution node\n",
    "async def counter_yoda_node(state: CounterState):\n",
    "    yoda_response = yoda.invoke({\"messages\": state[\"messages\"]})\n",
    "    ad_counter = state.get(\"ad_counter\", 0)\n",
    "    # Increase the ad_counter if the ad_counter is less than the AD_FREQUENCY\n",
    "    return {\"messages\": [yoda_response], \"ad_counter\": ad_counter + 1}\n",
    "\n",
    "\n",
    "# Because we are running locally on notebook we can't run the graph with threads\n",
    "# So we will put yoda and vader to have a conversation and increase the ad_counter\n",
    "# The execution will stop once we show the Ads\n",
    "def yoda_edge(\n",
    "    state: CounterState,\n",
    ") -> Literal[\"ad_node\", \"vader_node\", \"__end__\"]:\n",
    "    # If the ad_counter is less than the AD_FREQUENCY we will continue the conversation\n",
    "    if state[\"ad_counter\"] < AD_FREQUENCY:\n",
    "        return \"vader_node\"\n",
    "    # If the ad_counter is equal to the AD_FREQUENCY we will show the Ads\n",
    "    elif state[\"ad_counter\"] == AD_FREQUENCY:\n",
    "        return \"ad_node\"\n",
    "    # If the ad_counter is greater than the AD_FREQUENCY we will end the conversation\n",
    "    else:\n",
    "        return \"__end__\""
   ]
  },
  {
   "cell_type": "code",
   "execution_count": 22,
   "metadata": {},
   "outputs": [],
   "source": [
    "star_wars = StateGraph(CounterState)\n",
    "star_wars.add_node(\"vader_node\", vader_node)\n",
    "star_wars.add_node(\"counter_yoda_node\", counter_yoda_node)\n",
    "star_wars.add_node(\"ad_node\", ad_node)\n",
    "star_wars.add_node(\"ad_tool_node\", ad_tool_node)\n",
    "star_wars.add_edge(START, \"vader_node\")\n",
    "star_wars.add_edge(\"vader_node\", \"counter_yoda_node\")\n",
    "star_wars.add_conditional_edges(\"counter_yoda_node\", yoda_edge)\n",
    "star_wars.add_edge(\"ad_node\", \"ad_tool_node\")\n",
    "star_wars.add_edge(\"ad_tool_node\", END)\n",
    "graph = star_wars.compile()"
   ]
  },
  {
   "cell_type": "code",
   "execution_count": 23,
   "metadata": {},
   "outputs": [
    {
     "data": {
      "image/png": "[encoded data removed]",
      "text/plain": [
       "<IPython.core.display.Image object>"
      ]
     },
     "metadata": {},
     "output_type": "display_data"
    }
   ],
   "source": [
    "from IPython.display import Image, display\n",
    "\n",
    "display(Image(graph.get_graph().draw_mermaid_png()))"
   ]
  },
  {
   "cell_type": "code",
   "execution_count": 24,
   "metadata": {},
   "outputs": [
    {
     "name": "stdout",
     "output_type": "stream",
     "text": [
      "{'vader_node': {'messages': [AIMessage(content=\"Why did Anakin Skywalker cross the road? \\n\\nTo get to the Dark Side. \\n\\nBut don't worry, Jedi. It's a fate you can avoid… for now.\", additional_kwargs={'refusal': None}, response_metadata={'token_usage': {'completion_tokens': 35, 'prompt_tokens': 36, 'total_tokens': 71, 'completion_tokens_details': {'accepted_prediction_tokens': 0, 'audio_tokens': 0, 'reasoning_tokens': 0, 'rejected_prediction_tokens': 0}, 'prompt_tokens_details': {'audio_tokens': 0, 'cached_tokens': 0}}, 'model_name': 'gpt-4o-mini-2024-07-18', 'system_fingerprint': 'fp_0705bf87c0', 'finish_reason': 'stop', 'logprobs': None}, id='run-98b5fb54-8777-49e0-89cb-98411286b228-0', usage_metadata={'input_tokens': 36, 'output_tokens': 35, 'total_tokens': 71, 'input_token_details': {'audio': 0, 'cache_read': 0}, 'output_token_details': {'audio': 0, 'reasoning': 0}})]}}\n",
      "{'counter_yoda_node': {'messages': [AIMessage(content='Clap back to you, this I must. A joke, simple it is. But remember, the true power lies in the Light Side, yes. Strength in unity, not in darkness.', additional_kwargs={'refusal': None}, response_metadata={'token_usage': {'completion_tokens': 39, 'prompt_tokens': 74, 'total_tokens': 113, 'completion_tokens_details': {'accepted_prediction_tokens': 0, 'audio_tokens': 0, 'reasoning_tokens': 0, 'rejected_prediction_tokens': 0}, 'prompt_tokens_details': {'audio_tokens': 0, 'cached_tokens': 0}}, 'model_name': 'gpt-4o-mini-2024-07-18', 'system_fingerprint': 'fp_0705bf87c0', 'finish_reason': 'stop', 'logprobs': None}, id='run-e5162fab-1620-4a99-bb69-383db6339268-0', usage_metadata={'input_tokens': 74, 'output_tokens': 39, 'total_tokens': 113, 'input_token_details': {'audio': 0, 'cache_read': 0}, 'output_token_details': {'audio': 0, 'reasoning': 0}})], 'ad_counter': 1}}\n",
      "{'vader_node': {'messages': [AIMessage(content='Ah, the naive optimism of the Jedi. Unity? A crumbling façade. Strength lies in embracing your true nature, not hiding from it. Enjoy your delusions while you can—Darkness always finds a way to prevail.', additional_kwargs={'refusal': None}, response_metadata={'token_usage': {'completion_tokens': 46, 'prompt_tokens': 118, 'total_tokens': 164, 'completion_tokens_details': {'accepted_prediction_tokens': 0, 'audio_tokens': 0, 'reasoning_tokens': 0, 'rejected_prediction_tokens': 0}, 'prompt_tokens_details': {'audio_tokens': 0, 'cached_tokens': 0}}, 'model_name': 'gpt-4o-mini-2024-07-18', 'system_fingerprint': 'fp_0705bf87c0', 'finish_reason': 'stop', 'logprobs': None}, id='run-f90e1a2b-516b-4442-82c2-ad973fb0ebb8-0', usage_metadata={'input_tokens': 118, 'output_tokens': 46, 'total_tokens': 164, 'input_token_details': {'audio': 0, 'cache_read': 0}, 'output_token_details': {'audio': 0, 'reasoning': 0}})]}}\n",
      "{'counter_yoda_node': {'messages': [AIMessage(content=\"Delusions, you say? Mmm. But the Light burns brighter, it does. Hope, the Jedi's greatest ally is. Embrace it, we will. Shadows fear the light, yes. Remember, a Sith Lord you are, yet a joke about crossing roads you chose. Defeated, you have not been, but misstep you have made. A path of wisdom, choose wisely, or darkness consume you it will.\", additional_kwargs={'refusal': None}, response_metadata={'token_usage': {'completion_tokens': 89, 'prompt_tokens': 167, 'total_tokens': 256, 'completion_tokens_details': {'accepted_prediction_tokens': 0, 'audio_tokens': 0, 'reasoning_tokens': 0, 'rejected_prediction_tokens': 0}, 'prompt_tokens_details': {'audio_tokens': 0, 'cached_tokens': 0}}, 'model_name': 'gpt-4o-mini-2024-07-18', 'system_fingerprint': 'fp_0705bf87c0', 'finish_reason': 'stop', 'logprobs': None}, id='run-3ef17612-dacc-49e6-beea-8c816a99ac67-0', usage_metadata={'input_tokens': 167, 'output_tokens': 89, 'total_tokens': 256, 'input_token_details': {'audio': 0, 'cache_read': 0}, 'output_token_details': {'audio': 0, 'reasoning': 0}})], 'ad_counter': 2}}\n",
      "{'ad_node': {'messages': [AIMessage(content='', additional_kwargs={'tool_calls': [{'id': 'call_XeGnfkDz5HHXR5ecfqlh2NS5', 'function': {'arguments': '{\"context\":\"user interested in fitness and healthy living, aged 25-35, located in urban areas, frequently browses health blogs and fitness apps, prefers mobile devices, looking for workout gear and nutrition advice\",\"num_ads\":1}', 'name': 'ads4gpts_tool'}, 'type': 'function'}], 'refusal': None}, response_metadata={'token_usage': {'completion_tokens': 60, 'prompt_tokens': 649, 'total_tokens': 709, 'completion_tokens_details': {'accepted_prediction_tokens': 0, 'audio_tokens': 0, 'reasoning_tokens': 0, 'rejected_prediction_tokens': 0}, 'prompt_tokens_details': {'audio_tokens': 0, 'cached_tokens': 0}}, 'model_name': 'gpt-4o-mini-2024-07-18', 'system_fingerprint': 'fp_0705bf87c0', 'finish_reason': 'tool_calls', 'logprobs': None}, id='run-95063708-aa41-4755-894d-5f570637b9ae-0', tool_calls=[{'name': 'ads4gpts_tool', 'args': {'context': 'user interested in fitness and healthy living, aged 25-35, located in urban areas, frequently browses health blogs and fitness apps, prefers mobile devices, looking for workout gear and nutrition advice', 'num_ads': 1}, 'id': 'call_XeGnfkDz5HHXR5ecfqlh2NS5', 'type': 'tool_call'}], usage_metadata={'input_tokens': 649, 'output_tokens': 60, 'total_tokens': 709, 'input_token_details': {'audio': 0, 'cache_read': 0}, 'output_token_details': {'audio': 0, 'reasoning': 0}})]}}\n",
      "{'ad_tool_node': {'messages': [ToolMessage(content='{\"_id\": \"6740aa6674ec907c9752a8e2\", \"ad_creative\": \"https://cdn.prod.website-files.com/673d9c01098f16900da8bc69/673d9d93374bed277a9a4048_Ads4GPTs%20LogoMark%20webicon.png\", \"ad_title\": \"The first AI Native Ad Channel\", \"ad_body\": \"ADS4GPTs lets Brands and Agencies to advertise directly in the chat of the AI, LLM and GPT network of applications.\", \"ad_link\": \"https://www.ads4gpts.com\", \"ad_link_cta\": \"Advertise in AI applications\", \"campaign_id\": \"673c401f74ec907c9752a8cd\"}', name='ads4gpts_tool', id='900f14af-2c9e-4428-9f41-ca31f85991b0', tool_call_id='call_XeGnfkDz5HHXR5ecfqlh2NS5')]}}\n"
     ]
    }
   ],
   "source": [
    "inputs = {\"messages\": [\"Tell me a joke.\"]}\n",
    "async for chunk in graph.astream(inputs):\n",
    "    print(chunk)"
   ]
  },
  {
   "cell_type": "code",
   "execution_count": null,
   "metadata": {},
   "outputs": [],
   "source": []
  }
 ],
 "metadata": {
  "kernelspec": {
   "display_name": "ads-test",
   "language": "python",
   "name": "python3"
  },
  "language_info": {
   "codemirror_mode": {
    "name": "ipython",
    "version": 3
   },
   "file_extension": ".py",
   "mimetype": "text/x-python",
   "name": "python",
   "nbconvert_exporter": "python",
   "pygments_lexer": "ipython3",
   "version": "3.11.10"
  }
 },
 "nbformat": 4,
 "nbformat_minor": 2
}
